{
 "cells": [
  {
   "cell_type": "code",
   "execution_count": 1,
   "metadata": {
    "execution": {
     "iopub.execute_input": "2023-08-05T05:30:35.662031Z",
     "iopub.status.busy": "2023-08-05T05:30:35.661778Z",
     "iopub.status.idle": "2023-08-05T05:30:37.046530Z",
     "shell.execute_reply": "2023-08-05T05:30:37.045387Z",
     "shell.execute_reply.started": "2023-08-05T05:30:35.662009Z"
    }
   },
   "outputs": [],
   "source": [
    "import seaborn as sns\n",
    "import matplotlib.pyplot as plt\n",
    "\n",
    "import pandas as pd\n",
    "\n",
    "from statsmodels.tsa.ar_model import AutoReg\n",
    "import warnings\n",
    "warnings.filterwarnings(\"ignore\")"
   ]
  },
  {
   "cell_type": "code",
   "execution_count": 3,
   "metadata": {
    "execution": {
     "iopub.execute_input": "2023-08-05T05:30:37.049392Z",
     "iopub.status.busy": "2023-08-05T05:30:37.048689Z",
     "iopub.status.idle": "2023-08-05T05:30:37.758213Z",
     "shell.execute_reply": "2023-08-05T05:30:37.757208Z",
     "shell.execute_reply.started": "2023-08-05T05:30:37.049355Z"
    }
   },
   "outputs": [],
   "source": [
    "train = pd.read_csv(\"train.csv\")\n",
    "test =  pd.read_csv(\"test.csv\")"
   ]
  },
  {
   "cell_type": "code",
   "execution_count": 4,
   "metadata": {
    "execution": {
     "iopub.execute_input": "2023-08-05T05:30:37.760612Z",
     "iopub.status.busy": "2023-08-05T05:30:37.759909Z",
     "iopub.status.idle": "2023-08-05T05:30:37.769916Z",
     "shell.execute_reply": "2023-08-05T05:30:37.768866Z",
     "shell.execute_reply.started": "2023-08-05T05:30:37.760577Z"
    }
   },
   "outputs": [
    {
     "data": {
      "text/plain": [
       "((913000, 4), (45000, 4))"
      ]
     },
     "execution_count": 4,
     "metadata": {},
     "output_type": "execute_result"
    }
   ],
   "source": [
    "train.shape,test.shape"
   ]
  },
  {
   "cell_type": "code",
   "execution_count": 5,
   "metadata": {
    "execution": {
     "iopub.execute_input": "2023-08-05T05:30:37.776589Z",
     "iopub.status.busy": "2023-08-05T05:30:37.775722Z",
     "iopub.status.idle": "2023-08-05T05:30:37.808013Z",
     "shell.execute_reply": "2023-08-05T05:30:37.807065Z",
     "shell.execute_reply.started": "2023-08-05T05:30:37.776555Z"
    }
   },
   "outputs": [
    {
     "data": {
      "text/html": [
       "<div>\n",
       "<style scoped>\n",
       "    .dataframe tbody tr th:only-of-type {\n",
       "        vertical-align: middle;\n",
       "    }\n",
       "\n",
       "    .dataframe tbody tr th {\n",
       "        vertical-align: top;\n",
       "    }\n",
       "\n",
       "    .dataframe thead th {\n",
       "        text-align: right;\n",
       "    }\n",
       "</style>\n",
       "<table border=\"1\" class=\"dataframe\">\n",
       "  <thead>\n",
       "    <tr style=\"text-align: right;\">\n",
       "      <th></th>\n",
       "      <th>date</th>\n",
       "      <th>store</th>\n",
       "      <th>item</th>\n",
       "      <th>sales</th>\n",
       "    </tr>\n",
       "  </thead>\n",
       "  <tbody>\n",
       "    <tr>\n",
       "      <th>0</th>\n",
       "      <td>2013-01-01</td>\n",
       "      <td>1</td>\n",
       "      <td>1</td>\n",
       "      <td>13</td>\n",
       "    </tr>\n",
       "    <tr>\n",
       "      <th>1</th>\n",
       "      <td>2013-01-02</td>\n",
       "      <td>1</td>\n",
       "      <td>1</td>\n",
       "      <td>11</td>\n",
       "    </tr>\n",
       "    <tr>\n",
       "      <th>2</th>\n",
       "      <td>2013-01-03</td>\n",
       "      <td>1</td>\n",
       "      <td>1</td>\n",
       "      <td>14</td>\n",
       "    </tr>\n",
       "    <tr>\n",
       "      <th>3</th>\n",
       "      <td>2013-01-04</td>\n",
       "      <td>1</td>\n",
       "      <td>1</td>\n",
       "      <td>13</td>\n",
       "    </tr>\n",
       "    <tr>\n",
       "      <th>4</th>\n",
       "      <td>2013-01-05</td>\n",
       "      <td>1</td>\n",
       "      <td>1</td>\n",
       "      <td>10</td>\n",
       "    </tr>\n",
       "  </tbody>\n",
       "</table>\n",
       "</div>"
      ],
      "text/plain": [
       "         date  store  item  sales\n",
       "0  2013-01-01      1     1     13\n",
       "1  2013-01-02      1     1     11\n",
       "2  2013-01-03      1     1     14\n",
       "3  2013-01-04      1     1     13\n",
       "4  2013-01-05      1     1     10"
      ]
     },
     "metadata": {},
     "output_type": "display_data"
    },
    {
     "data": {
      "text/html": [
       "<div>\n",
       "<style scoped>\n",
       "    .dataframe tbody tr th:only-of-type {\n",
       "        vertical-align: middle;\n",
       "    }\n",
       "\n",
       "    .dataframe tbody tr th {\n",
       "        vertical-align: top;\n",
       "    }\n",
       "\n",
       "    .dataframe thead th {\n",
       "        text-align: right;\n",
       "    }\n",
       "</style>\n",
       "<table border=\"1\" class=\"dataframe\">\n",
       "  <thead>\n",
       "    <tr style=\"text-align: right;\">\n",
       "      <th></th>\n",
       "      <th>id</th>\n",
       "      <th>date</th>\n",
       "      <th>store</th>\n",
       "      <th>item</th>\n",
       "    </tr>\n",
       "  </thead>\n",
       "  <tbody>\n",
       "    <tr>\n",
       "      <th>0</th>\n",
       "      <td>0</td>\n",
       "      <td>2018-01-01</td>\n",
       "      <td>1</td>\n",
       "      <td>1</td>\n",
       "    </tr>\n",
       "    <tr>\n",
       "      <th>1</th>\n",
       "      <td>1</td>\n",
       "      <td>2018-01-02</td>\n",
       "      <td>1</td>\n",
       "      <td>1</td>\n",
       "    </tr>\n",
       "    <tr>\n",
       "      <th>2</th>\n",
       "      <td>2</td>\n",
       "      <td>2018-01-03</td>\n",
       "      <td>1</td>\n",
       "      <td>1</td>\n",
       "    </tr>\n",
       "    <tr>\n",
       "      <th>3</th>\n",
       "      <td>3</td>\n",
       "      <td>2018-01-04</td>\n",
       "      <td>1</td>\n",
       "      <td>1</td>\n",
       "    </tr>\n",
       "    <tr>\n",
       "      <th>4</th>\n",
       "      <td>4</td>\n",
       "      <td>2018-01-05</td>\n",
       "      <td>1</td>\n",
       "      <td>1</td>\n",
       "    </tr>\n",
       "  </tbody>\n",
       "</table>\n",
       "</div>"
      ],
      "text/plain": [
       "   id        date  store  item\n",
       "0   0  2018-01-01      1     1\n",
       "1   1  2018-01-02      1     1\n",
       "2   2  2018-01-03      1     1\n",
       "3   3  2018-01-04      1     1\n",
       "4   4  2018-01-05      1     1"
      ]
     },
     "metadata": {},
     "output_type": "display_data"
    }
   ],
   "source": [
    "display(train.head())\n",
    "display(test.head())"
   ]
  },
  {
   "cell_type": "code",
   "execution_count": 6,
   "metadata": {
    "execution": {
     "iopub.execute_input": "2023-08-05T05:30:37.814976Z",
     "iopub.status.busy": "2023-08-05T05:30:37.812525Z",
     "iopub.status.idle": "2023-08-05T05:30:38.397087Z",
     "shell.execute_reply": "2023-08-05T05:30:38.395428Z",
     "shell.execute_reply.started": "2023-08-05T05:30:37.814931Z"
    }
   },
   "outputs": [
    {
     "name": "stdout",
     "output_type": "stream",
     "text": [
      "<class 'pandas.core.frame.DataFrame'>\n",
      "RangeIndex: 913000 entries, 0 to 912999\n",
      "Data columns (total 4 columns):\n",
      " #   Column  Non-Null Count   Dtype \n",
      "---  ------  --------------   ----- \n",
      " 0   date    913000 non-null  object\n",
      " 1   store   913000 non-null  int64 \n",
      " 2   item    913000 non-null  int64 \n",
      " 3   sales   913000 non-null  int64 \n",
      "dtypes: int64(3), object(1)\n",
      "memory usage: 27.9+ MB\n"
     ]
    }
   ],
   "source": [
    "train.info()"
   ]
  },
  {
   "cell_type": "code",
   "execution_count": 7,
   "metadata": {
    "execution": {
     "iopub.execute_input": "2023-08-05T05:30:38.401953Z",
     "iopub.status.busy": "2023-08-05T05:30:38.401592Z",
     "iopub.status.idle": "2023-08-05T05:30:38.817412Z",
     "shell.execute_reply": "2023-08-05T05:30:38.815758Z",
     "shell.execute_reply.started": "2023-08-05T05:30:38.401925Z"
    }
   },
   "outputs": [],
   "source": [
    "import datetime as dt\n",
    "train['date'] = pd.to_datetime(train['date'])"
   ]
  },
  {
   "cell_type": "code",
   "execution_count": 8,
   "metadata": {
    "execution": {
     "iopub.execute_input": "2023-08-05T05:30:38.821585Z",
     "iopub.status.busy": "2023-08-05T05:30:38.820994Z",
     "iopub.status.idle": "2023-08-05T05:30:39.036395Z",
     "shell.execute_reply": "2023-08-05T05:30:39.035263Z",
     "shell.execute_reply.started": "2023-08-05T05:30:38.821546Z"
    }
   },
   "outputs": [],
   "source": [
    "train['year'] = train['date'].dt.year\n",
    "train['month'] = train['date'].dt.month"
   ]
  },
  {
   "cell_type": "code",
   "execution_count": 9,
   "metadata": {
    "execution": {
     "iopub.execute_input": "2023-08-05T05:30:39.038462Z",
     "iopub.status.busy": "2023-08-05T05:30:39.037882Z",
     "iopub.status.idle": "2023-08-05T05:30:39.054326Z",
     "shell.execute_reply": "2023-08-05T05:30:39.053270Z",
     "shell.execute_reply.started": "2023-08-05T05:30:39.038427Z"
    }
   },
   "outputs": [
    {
     "data": {
      "text/html": [
       "<div>\n",
       "<style scoped>\n",
       "    .dataframe tbody tr th:only-of-type {\n",
       "        vertical-align: middle;\n",
       "    }\n",
       "\n",
       "    .dataframe tbody tr th {\n",
       "        vertical-align: top;\n",
       "    }\n",
       "\n",
       "    .dataframe thead th {\n",
       "        text-align: right;\n",
       "    }\n",
       "</style>\n",
       "<table border=\"1\" class=\"dataframe\">\n",
       "  <thead>\n",
       "    <tr style=\"text-align: right;\">\n",
       "      <th></th>\n",
       "      <th>date</th>\n",
       "      <th>store</th>\n",
       "      <th>item</th>\n",
       "      <th>sales</th>\n",
       "      <th>year</th>\n",
       "      <th>month</th>\n",
       "    </tr>\n",
       "  </thead>\n",
       "  <tbody>\n",
       "    <tr>\n",
       "      <th>0</th>\n",
       "      <td>2013-01-01</td>\n",
       "      <td>1</td>\n",
       "      <td>1</td>\n",
       "      <td>13</td>\n",
       "      <td>2013</td>\n",
       "      <td>1</td>\n",
       "    </tr>\n",
       "    <tr>\n",
       "      <th>1</th>\n",
       "      <td>2013-01-02</td>\n",
       "      <td>1</td>\n",
       "      <td>1</td>\n",
       "      <td>11</td>\n",
       "      <td>2013</td>\n",
       "      <td>1</td>\n",
       "    </tr>\n",
       "    <tr>\n",
       "      <th>2</th>\n",
       "      <td>2013-01-03</td>\n",
       "      <td>1</td>\n",
       "      <td>1</td>\n",
       "      <td>14</td>\n",
       "      <td>2013</td>\n",
       "      <td>1</td>\n",
       "    </tr>\n",
       "    <tr>\n",
       "      <th>3</th>\n",
       "      <td>2013-01-04</td>\n",
       "      <td>1</td>\n",
       "      <td>1</td>\n",
       "      <td>13</td>\n",
       "      <td>2013</td>\n",
       "      <td>1</td>\n",
       "    </tr>\n",
       "    <tr>\n",
       "      <th>4</th>\n",
       "      <td>2013-01-05</td>\n",
       "      <td>1</td>\n",
       "      <td>1</td>\n",
       "      <td>10</td>\n",
       "      <td>2013</td>\n",
       "      <td>1</td>\n",
       "    </tr>\n",
       "  </tbody>\n",
       "</table>\n",
       "</div>"
      ],
      "text/plain": [
       "        date  store  item  sales  year  month\n",
       "0 2013-01-01      1     1     13  2013      1\n",
       "1 2013-01-02      1     1     11  2013      1\n",
       "2 2013-01-03      1     1     14  2013      1\n",
       "3 2013-01-04      1     1     13  2013      1\n",
       "4 2013-01-05      1     1     10  2013      1"
      ]
     },
     "execution_count": 9,
     "metadata": {},
     "output_type": "execute_result"
    }
   ],
   "source": [
    "train.head()"
   ]
  },
  {
   "cell_type": "code",
   "execution_count": 10,
   "metadata": {
    "execution": {
     "iopub.execute_input": "2023-08-05T05:30:39.059020Z",
     "iopub.status.busy": "2023-08-05T05:30:39.058618Z",
     "iopub.status.idle": "2023-08-05T05:30:39.177527Z",
     "shell.execute_reply": "2023-08-05T05:30:39.176384Z",
     "shell.execute_reply.started": "2023-08-05T05:30:39.058990Z"
    }
   },
   "outputs": [
    {
     "name": "stdout",
     "output_type": "stream",
     "text": [
      "date\n",
      "2013-01-01    500\n",
      "2016-05-11    500\n",
      "2016-05-09    500\n",
      "2016-05-08    500\n",
      "2016-05-07    500\n",
      "             ... \n",
      "2014-08-29    500\n",
      "2014-08-28    500\n",
      "2014-08-27    500\n",
      "2014-08-26    500\n",
      "2017-12-31    500\n",
      "Name: date, Length: 1826, dtype: int64\n",
      "**************************************************\n",
      "store\n",
      "1     91300\n",
      "2     91300\n",
      "3     91300\n",
      "4     91300\n",
      "5     91300\n",
      "6     91300\n",
      "7     91300\n",
      "8     91300\n",
      "9     91300\n",
      "10    91300\n",
      "Name: store, dtype: int64\n",
      "**************************************************\n",
      "item\n",
      "1     18260\n",
      "38    18260\n",
      "28    18260\n",
      "29    18260\n",
      "30    18260\n",
      "31    18260\n",
      "32    18260\n",
      "33    18260\n",
      "34    18260\n",
      "35    18260\n",
      "36    18260\n",
      "37    18260\n",
      "39    18260\n",
      "2     18260\n",
      "40    18260\n",
      "41    18260\n",
      "42    18260\n",
      "43    18260\n",
      "44    18260\n",
      "45    18260\n",
      "46    18260\n",
      "47    18260\n",
      "48    18260\n",
      "49    18260\n",
      "27    18260\n",
      "26    18260\n",
      "25    18260\n",
      "24    18260\n",
      "3     18260\n",
      "4     18260\n",
      "5     18260\n",
      "6     18260\n",
      "7     18260\n",
      "8     18260\n",
      "9     18260\n",
      "10    18260\n",
      "11    18260\n",
      "12    18260\n",
      "13    18260\n",
      "14    18260\n",
      "15    18260\n",
      "16    18260\n",
      "17    18260\n",
      "18    18260\n",
      "19    18260\n",
      "20    18260\n",
      "21    18260\n",
      "22    18260\n",
      "23    18260\n",
      "50    18260\n",
      "Name: item, dtype: int64\n",
      "**************************************************\n",
      "sales\n",
      "30     14283\n",
      "27     14231\n",
      "26     14212\n",
      "29     14178\n",
      "28     14164\n",
      "       ...  \n",
      "201        1\n",
      "214        1\n",
      "206        1\n",
      "203        1\n",
      "202        1\n",
      "Name: sales, Length: 213, dtype: int64\n",
      "**************************************************\n",
      "year\n",
      "2016    183000\n",
      "2013    182500\n",
      "2014    182500\n",
      "2015    182500\n",
      "2017    182500\n",
      "Name: year, dtype: int64\n",
      "**************************************************\n",
      "month\n",
      "1     77500\n",
      "3     77500\n",
      "5     77500\n",
      "7     77500\n",
      "8     77500\n",
      "10    77500\n",
      "12    77500\n",
      "4     75000\n",
      "6     75000\n",
      "9     75000\n",
      "11    75000\n",
      "2     70500\n",
      "Name: month, dtype: int64\n",
      "**************************************************\n"
     ]
    }
   ],
   "source": [
    "for i in train.columns:\n",
    "    print(i)\n",
    "    print(train[i].value_counts())\n",
    "    print(\"*\"*50)"
   ]
  },
  {
   "cell_type": "code",
   "execution_count": 11,
   "metadata": {
    "execution": {
     "iopub.execute_input": "2023-08-05T05:30:39.197041Z",
     "iopub.status.busy": "2023-08-05T05:30:39.193917Z",
     "iopub.status.idle": "2023-08-05T05:30:39.252955Z",
     "shell.execute_reply": "2023-08-05T05:30:39.252134Z",
     "shell.execute_reply.started": "2023-08-05T05:30:39.196993Z"
    }
   },
   "outputs": [
    {
     "data": {
      "text/html": [
       "<div>\n",
       "<style scoped>\n",
       "    .dataframe tbody tr th:only-of-type {\n",
       "        vertical-align: middle;\n",
       "    }\n",
       "\n",
       "    .dataframe tbody tr th {\n",
       "        vertical-align: top;\n",
       "    }\n",
       "\n",
       "    .dataframe thead th {\n",
       "        text-align: right;\n",
       "    }\n",
       "</style>\n",
       "<table border=\"1\" class=\"dataframe\">\n",
       "  <thead>\n",
       "    <tr style=\"text-align: right;\">\n",
       "      <th></th>\n",
       "      <th>year</th>\n",
       "      <th>sales</th>\n",
       "    </tr>\n",
       "  </thead>\n",
       "  <tbody>\n",
       "    <tr>\n",
       "      <th>0</th>\n",
       "      <td>2013</td>\n",
       "      <td>7941243</td>\n",
       "    </tr>\n",
       "    <tr>\n",
       "      <th>1</th>\n",
       "      <td>2014</td>\n",
       "      <td>9135482</td>\n",
       "    </tr>\n",
       "    <tr>\n",
       "      <th>2</th>\n",
       "      <td>2015</td>\n",
       "      <td>9536887</td>\n",
       "    </tr>\n",
       "    <tr>\n",
       "      <th>3</th>\n",
       "      <td>2016</td>\n",
       "      <td>10357160</td>\n",
       "    </tr>\n",
       "    <tr>\n",
       "      <th>4</th>\n",
       "      <td>2017</td>\n",
       "      <td>10733740</td>\n",
       "    </tr>\n",
       "  </tbody>\n",
       "</table>\n",
       "</div>"
      ],
      "text/plain": [
       "   year     sales\n",
       "0  2013   7941243\n",
       "1  2014   9135482\n",
       "2  2015   9536887\n",
       "3  2016  10357160\n",
       "4  2017  10733740"
      ]
     },
     "execution_count": 11,
     "metadata": {},
     "output_type": "execute_result"
    }
   ],
   "source": [
    "sales_year = pd.DataFrame(train.groupby('year')['sales'].sum()).reset_index()\n",
    "sales_year.head()"
   ]
  },
  {
   "cell_type": "code",
   "execution_count": 12,
   "metadata": {
    "execution": {
     "iopub.execute_input": "2023-08-05T05:30:39.259139Z",
     "iopub.status.busy": "2023-08-05T05:30:39.256935Z",
     "iopub.status.idle": "2023-08-05T05:30:39.574094Z",
     "shell.execute_reply": "2023-08-05T05:30:39.573145Z",
     "shell.execute_reply.started": "2023-08-05T05:30:39.259105Z"
    }
   },
   "outputs": [
    {
     "data": {
      "text/plain": [
       "<Axes: xlabel='year', ylabel='sales'>"
      ]
     },
     "execution_count": 12,
     "metadata": {},
     "output_type": "execute_result"
    },
    {
     "data": {
      "image/png": "[encoded data removed]",
      "text/plain": [
       "<Figure size 640x480 with 1 Axes>"
      ]
     },
     "metadata": {},
     "output_type": "display_data"
    }
   ],
   "source": [
    "sns.barplot(data=sales_year,x='year',y='sales')"
   ]
  },
  {
   "cell_type": "code",
   "execution_count": 13,
   "metadata": {
    "execution": {
     "iopub.execute_input": "2023-08-05T05:30:39.576454Z",
     "iopub.status.busy": "2023-08-05T05:30:39.575531Z",
     "iopub.status.idle": "2023-08-05T05:30:39.973239Z",
     "shell.execute_reply": "2023-08-05T05:30:39.972168Z",
     "shell.execute_reply.started": "2023-08-05T05:30:39.576417Z"
    }
   },
   "outputs": [
    {
     "data": {
      "text/plain": [
       "<Axes: xlabel='year', ylabel='sales'>"
      ]
     },
     "execution_count": 13,
     "metadata": {},
     "output_type": "execute_result"
    },
    {
     "data": {
      "image/png": "[encoded data removed]",
      "text/plain": [
       "<Figure size 640x480 with 1 Axes>"
      ]
     },
     "metadata": {},
     "output_type": "display_data"
    }
   ],
   "source": [
    "sns.lineplot(data=sales_year,x='year',y='sales')"
   ]
  },
  {
   "cell_type": "code",
   "execution_count": 14,
   "metadata": {
    "execution": {
     "iopub.execute_input": "2023-08-05T05:30:39.975324Z",
     "iopub.status.busy": "2023-08-05T05:30:39.974655Z",
     "iopub.status.idle": "2023-08-05T05:30:39.987128Z",
     "shell.execute_reply": "2023-08-05T05:30:39.986020Z",
     "shell.execute_reply.started": "2023-08-05T05:30:39.975282Z"
    }
   },
   "outputs": [
    {
     "name": "stdout",
     "output_type": "stream",
     "text": [
      "starting_date 2013-01-01 00:00:00\n",
      "ending_date 2017-12-31 00:00:00\n"
     ]
    }
   ],
   "source": [
    "print('starting_date',train['date'].min())\n",
    "print('ending_date',train['date'].max())"
   ]
  },
  {
   "cell_type": "code",
   "execution_count": 15,
   "metadata": {
    "execution": {
     "iopub.execute_input": "2023-08-05T05:30:39.989427Z",
     "iopub.status.busy": "2023-08-05T05:30:39.988672Z",
     "iopub.status.idle": "2023-08-05T05:30:40.023088Z",
     "shell.execute_reply": "2023-08-05T05:30:40.021990Z",
     "shell.execute_reply.started": "2023-08-05T05:30:39.989273Z"
    }
   },
   "outputs": [
    {
     "name": "stdout",
     "output_type": "stream",
     "text": [
      "starting_date 2018-01-01\n",
      "ending_date 2018-03-31\n"
     ]
    }
   ],
   "source": [
    "print('starting_date',test['date'].min())\n",
    "print('ending_date',test['date'].max())"
   ]
  },
  {
   "cell_type": "code",
   "execution_count": 16,
   "metadata": {
    "execution": {
     "iopub.execute_input": "2023-08-05T05:30:40.027568Z",
     "iopub.status.busy": "2023-08-05T05:30:40.027261Z",
     "iopub.status.idle": "2023-08-05T05:30:40.046061Z",
     "shell.execute_reply": "2023-08-05T05:30:40.044845Z",
     "shell.execute_reply.started": "2023-08-05T05:30:40.027543Z"
    }
   },
   "outputs": [
    {
     "data": {
      "text/html": [
       "<div>\n",
       "<style scoped>\n",
       "    .dataframe tbody tr th:only-of-type {\n",
       "        vertical-align: middle;\n",
       "    }\n",
       "\n",
       "    .dataframe tbody tr th {\n",
       "        vertical-align: top;\n",
       "    }\n",
       "\n",
       "    .dataframe thead th {\n",
       "        text-align: right;\n",
       "    }\n",
       "</style>\n",
       "<table border=\"1\" class=\"dataframe\">\n",
       "  <thead>\n",
       "    <tr style=\"text-align: right;\">\n",
       "      <th></th>\n",
       "      <th>date</th>\n",
       "      <th>store</th>\n",
       "      <th>item</th>\n",
       "      <th>sales</th>\n",
       "      <th>year</th>\n",
       "      <th>month</th>\n",
       "    </tr>\n",
       "  </thead>\n",
       "  <tbody>\n",
       "    <tr>\n",
       "      <th>0</th>\n",
       "      <td>2013-01-01</td>\n",
       "      <td>1</td>\n",
       "      <td>1</td>\n",
       "      <td>13</td>\n",
       "      <td>2013</td>\n",
       "      <td>1</td>\n",
       "    </tr>\n",
       "    <tr>\n",
       "      <th>1</th>\n",
       "      <td>2013-01-02</td>\n",
       "      <td>1</td>\n",
       "      <td>1</td>\n",
       "      <td>11</td>\n",
       "      <td>2013</td>\n",
       "      <td>1</td>\n",
       "    </tr>\n",
       "    <tr>\n",
       "      <th>2</th>\n",
       "      <td>2013-01-03</td>\n",
       "      <td>1</td>\n",
       "      <td>1</td>\n",
       "      <td>14</td>\n",
       "      <td>2013</td>\n",
       "      <td>1</td>\n",
       "    </tr>\n",
       "    <tr>\n",
       "      <th>3</th>\n",
       "      <td>2013-01-04</td>\n",
       "      <td>1</td>\n",
       "      <td>1</td>\n",
       "      <td>13</td>\n",
       "      <td>2013</td>\n",
       "      <td>1</td>\n",
       "    </tr>\n",
       "    <tr>\n",
       "      <th>4</th>\n",
       "      <td>2013-01-05</td>\n",
       "      <td>1</td>\n",
       "      <td>1</td>\n",
       "      <td>10</td>\n",
       "      <td>2013</td>\n",
       "      <td>1</td>\n",
       "    </tr>\n",
       "  </tbody>\n",
       "</table>\n",
       "</div>"
      ],
      "text/plain": [
       "        date  store  item  sales  year  month\n",
       "0 2013-01-01      1     1     13  2013      1\n",
       "1 2013-01-02      1     1     11  2013      1\n",
       "2 2013-01-03      1     1     14  2013      1\n",
       "3 2013-01-04      1     1     13  2013      1\n",
       "4 2013-01-05      1     1     10  2013      1"
      ]
     },
     "execution_count": 16,
     "metadata": {},
     "output_type": "execute_result"
    }
   ],
   "source": [
    "train.head()"
   ]
  },
  {
   "cell_type": "code",
   "execution_count": 17,
   "metadata": {
    "execution": {
     "iopub.execute_input": "2023-08-05T05:30:40.048526Z",
     "iopub.status.busy": "2023-08-05T05:30:40.048015Z",
     "iopub.status.idle": "2023-08-05T05:30:40.059481Z",
     "shell.execute_reply": "2023-08-05T05:30:40.058257Z",
     "shell.execute_reply.started": "2023-08-05T05:30:40.048493Z"
    }
   },
   "outputs": [],
   "source": [
    "df = train.drop(columns=['store','item','year','month'])"
   ]
  },
  {
   "cell_type": "code",
   "execution_count": 18,
   "metadata": {
    "execution": {
     "iopub.execute_input": "2023-08-05T05:30:40.062058Z",
     "iopub.status.busy": "2023-08-05T05:30:40.061587Z",
     "iopub.status.idle": "2023-08-05T05:30:40.085884Z",
     "shell.execute_reply": "2023-08-05T05:30:40.084584Z",
     "shell.execute_reply.started": "2023-08-05T05:30:40.062024Z"
    }
   },
   "outputs": [],
   "source": [
    "df=df.set_index('date')"
   ]
  },
  {
   "cell_type": "code",
   "execution_count": 19,
   "metadata": {
    "execution": {
     "iopub.execute_input": "2023-08-05T05:30:40.090447Z",
     "iopub.status.busy": "2023-08-05T05:30:40.089272Z",
     "iopub.status.idle": "2023-08-05T05:30:40.109465Z",
     "shell.execute_reply": "2023-08-05T05:30:40.108257Z",
     "shell.execute_reply.started": "2023-08-05T05:30:40.090410Z"
    }
   },
   "outputs": [
    {
     "name": "stdout",
     "output_type": "stream",
     "text": [
      "(913000, 1)\n"
     ]
    },
    {
     "data": {
      "text/html": [
       "<div>\n",
       "<style scoped>\n",
       "    .dataframe tbody tr th:only-of-type {\n",
       "        vertical-align: middle;\n",
       "    }\n",
       "\n",
       "    .dataframe tbody tr th {\n",
       "        vertical-align: top;\n",
       "    }\n",
       "\n",
       "    .dataframe thead th {\n",
       "        text-align: right;\n",
       "    }\n",
       "</style>\n",
       "<table border=\"1\" class=\"dataframe\">\n",
       "  <thead>\n",
       "    <tr style=\"text-align: right;\">\n",
       "      <th></th>\n",
       "      <th>sales</th>\n",
       "    </tr>\n",
       "    <tr>\n",
       "      <th>date</th>\n",
       "      <th></th>\n",
       "    </tr>\n",
       "  </thead>\n",
       "  <tbody>\n",
       "    <tr>\n",
       "      <th>2013-01-01</th>\n",
       "      <td>13</td>\n",
       "    </tr>\n",
       "    <tr>\n",
       "      <th>2013-01-02</th>\n",
       "      <td>11</td>\n",
       "    </tr>\n",
       "    <tr>\n",
       "      <th>2013-01-03</th>\n",
       "      <td>14</td>\n",
       "    </tr>\n",
       "    <tr>\n",
       "      <th>2013-01-04</th>\n",
       "      <td>13</td>\n",
       "    </tr>\n",
       "    <tr>\n",
       "      <th>2013-01-05</th>\n",
       "      <td>10</td>\n",
       "    </tr>\n",
       "  </tbody>\n",
       "</table>\n",
       "</div>"
      ],
      "text/plain": [
       "            sales\n",
       "date             \n",
       "2013-01-01     13\n",
       "2013-01-02     11\n",
       "2013-01-03     14\n",
       "2013-01-04     13\n",
       "2013-01-05     10"
      ]
     },
     "metadata": {},
     "output_type": "display_data"
    }
   ],
   "source": [
    "print(df.shape)\n",
    "display(df.head())"
   ]
  },
  {
   "cell_type": "code",
   "execution_count": 20,
   "metadata": {
    "execution": {
     "iopub.execute_input": "2023-08-05T05:30:40.114600Z",
     "iopub.status.busy": "2023-08-05T05:30:40.114143Z",
     "iopub.status.idle": "2023-08-05T05:30:49.392716Z",
     "shell.execute_reply": "2023-08-05T05:30:49.391580Z",
     "shell.execute_reply.started": "2023-08-05T05:30:40.114569Z"
    }
   },
   "outputs": [
    {
     "data": {
      "text/plain": [
       "[<matplotlib.lines.Line2D at 0x7e879c8ecee0>]"
      ]
     },
     "execution_count": 20,
     "metadata": {},
     "output_type": "execute_result"
    },
    {
     "data": {
      "image/png": "[encoded data removed]",
      "text/plain": [
       "<Figure size 640x480 with 1 Axes>"
      ]
     },
     "metadata": {},
     "output_type": "display_data"
    }
   ],
   "source": [
    "plt.plot(df)"
   ]
  },
  {
   "cell_type": "markdown",
   "metadata": {},
   "source": [
    "* **Checking for stationarity-->\n",
    "* statsmodels is a powerful library for statistical modeling and hypothesis testing in Python. The adfuller function is used to perform the Augmented Dickey-Fuller test, which is a unit root test used to check for the presence of a unit root in a univariate time series.\n",
    "\n",
    "* A unit root is a characteristic of a time series where the process is not stable and has a stochastic trend, meaning it is non-stationary. The Augmented Dickey-Fuller test helps in determining whether a time series is stationary or not, which is essential in many time series analysis and forecasting techniques."
   ]
  },
  {
   "cell_type": "code",
   "execution_count": 95,
   "metadata": {
    "execution": {
     "iopub.execute_input": "2023-08-05T05:51:13.758430Z",
     "iopub.status.busy": "2023-08-05T05:51:13.758002Z",
     "iopub.status.idle": "2023-08-05T05:51:13.772644Z",
     "shell.execute_reply": "2023-08-05T05:51:13.771599Z",
     "shell.execute_reply.started": "2023-08-05T05:51:13.758398Z"
    }
   },
   "outputs": [
    {
     "data": {
      "text/plain": [
       "181000"
      ]
     },
     "execution_count": 95,
     "metadata": {},
     "output_type": "execute_result"
    }
   ],
   "source": [
    "new_df = df[df.index>'2017-01-03']\n",
    "len(new_df)"
   ]
  },
  {
   "cell_type": "code",
   "execution_count": 22,
   "metadata": {
    "execution": {
     "iopub.execute_input": "2023-08-05T05:30:49.412233Z",
     "iopub.status.busy": "2023-08-05T05:30:49.411849Z",
     "iopub.status.idle": "2023-08-05T05:32:16.189275Z",
     "shell.execute_reply": "2023-08-05T05:32:16.187863Z",
     "shell.execute_reply.started": "2023-08-05T05:30:49.412200Z"
    }
   },
   "outputs": [],
   "source": [
    "from statsmodels.tsa.stattools import adfuller\n",
    "sales = adfuller(new_df['sales'])"
   ]
  },
  {
   "cell_type": "code",
   "execution_count": 23,
   "metadata": {
    "execution": {
     "iopub.execute_input": "2023-08-05T05:32:16.191478Z",
     "iopub.status.busy": "2023-08-05T05:32:16.190854Z",
     "iopub.status.idle": "2023-08-05T05:32:16.197833Z",
     "shell.execute_reply": "2023-08-05T05:32:16.196916Z",
     "shell.execute_reply.started": "2023-08-05T05:32:16.191443Z"
    }
   },
   "outputs": [
    {
     "name": "stdout",
     "output_type": "stream",
     "text": [
      "ADF:--> -16.750791906342833\n",
      "P-value:--> 1.334466240582691e-29\n",
      "Num of lags:--> 79\n",
      "No of observation used for ADF regression and critical value calculation:--> 180920\n"
     ]
    }
   ],
   "source": [
    "print('ADF:-->',sales[0])\n",
    "print('P-value:-->',sales[1])\n",
    "print('Num of lags:-->',sales[2])\n",
    "print('No of observation used for ADF regression and critical value calculation:-->',sales[3])"
   ]
  },
  {
   "cell_type": "code",
   "execution_count": 24,
   "metadata": {
    "execution": {
     "iopub.execute_input": "2023-08-05T05:32:16.199847Z",
     "iopub.status.busy": "2023-08-05T05:32:16.199246Z",
     "iopub.status.idle": "2023-08-05T05:32:16.217492Z",
     "shell.execute_reply": "2023-08-05T05:32:16.216320Z",
     "shell.execute_reply.started": "2023-08-05T05:32:16.199812Z"
    }
   },
   "outputs": [],
   "source": [
    "from statsmodels.graphics.tsaplots import plot_pacf,plot_acf"
   ]
  },
  {
   "cell_type": "code",
   "execution_count": 25,
   "metadata": {
    "execution": {
     "iopub.execute_input": "2023-08-05T05:32:16.219825Z",
     "iopub.status.busy": "2023-08-05T05:32:16.219206Z",
     "iopub.status.idle": "2023-08-05T05:32:28.959230Z",
     "shell.execute_reply": "2023-08-05T05:32:28.958119Z",
     "shell.execute_reply.started": "2023-08-05T05:32:16.219792Z"
    }
   },
   "outputs": [
    {
     "data": {
      "image/png": "[encoded data removed]",
      "text/plain": [
       "<Figure size 640x480 with 1 Axes>"
      ]
     },
     "metadata": {},
     "output_type": "display_data"
    },
    {
     "data": {
      "image/png": "[encoded data removed]",
      "text/plain": [
       "<Figure size 640x480 with 1 Axes>"
      ]
     },
     "metadata": {},
     "output_type": "display_data"
    }
   ],
   "source": [
    "pacf = plot_pacf(new_df['sales'],lags=70)\n",
    "acf = plot_acf(new_df['sales'],lags=70)"
   ]
  },
  {
   "cell_type": "code",
   "execution_count": 26,
   "metadata": {
    "execution": {
     "iopub.execute_input": "2023-08-05T05:32:28.961379Z",
     "iopub.status.busy": "2023-08-05T05:32:28.960989Z",
     "iopub.status.idle": "2023-08-05T05:32:28.968410Z",
     "shell.execute_reply": "2023-08-05T05:32:28.967414Z",
     "shell.execute_reply.started": "2023-08-05T05:32:28.961344Z"
    }
   },
   "outputs": [],
   "source": [
    "x = new_df.values"
   ]
  },
  {
   "cell_type": "code",
   "execution_count": 27,
   "metadata": {
    "execution": {
     "iopub.execute_input": "2023-08-05T05:32:28.970459Z",
     "iopub.status.busy": "2023-08-05T05:32:28.970095Z",
     "iopub.status.idle": "2023-08-05T05:32:28.982318Z",
     "shell.execute_reply": "2023-08-05T05:32:28.981232Z",
     "shell.execute_reply.started": "2023-08-05T05:32:28.970427Z"
    }
   },
   "outputs": [],
   "source": [
    "train_data = x[:len(x)-30]\n",
    "test_data = x[len(x)-30:]"
   ]
  },
  {
   "cell_type": "code",
   "execution_count": 28,
   "metadata": {
    "execution": {
     "iopub.execute_input": "2023-08-05T05:32:28.984098Z",
     "iopub.status.busy": "2023-08-05T05:32:28.983662Z",
     "iopub.status.idle": "2023-08-05T05:32:29.883052Z",
     "shell.execute_reply": "2023-08-05T05:32:29.882130Z",
     "shell.execute_reply.started": "2023-08-05T05:32:28.984065Z"
    }
   },
   "outputs": [
    {
     "name": "stdout",
     "output_type": "stream",
     "text": [
      "                            AutoReg Model Results                             \n",
      "==============================================================================\n",
      "Dep. Variable:                      y   No. Observations:               180970\n",
      "Model:                    AutoReg(40)   Log Likelihood             -661486.518\n",
      "Method:               Conditional MLE   S.D. of innovations              9.366\n",
      "Date:                Sat, 05 Aug 2023   AIC                        1323057.036\n",
      "Time:                        05:32:29   BIC                        1323481.483\n",
      "Sample:                            40   HQIC                       1323182.506\n",
      "                               180970                                         \n",
      "==============================================================================\n",
      "                 coef    std err          z      P>|z|      [0.025      0.975]\n",
      "------------------------------------------------------------------------------\n",
      "const          0.6518      0.050     13.108      0.000       0.554       0.749\n",
      "y.L1           0.1837      0.002     78.152      0.000       0.179       0.188\n",
      "y.L2           0.1191      0.002     49.840      0.000       0.114       0.124\n",
      "y.L3           0.0933      0.002     38.830      0.000       0.089       0.098\n",
      "y.L4           0.0764      0.002     31.656      0.000       0.072       0.081\n",
      "y.L5           0.0647      0.002     26.770      0.000       0.060       0.069\n",
      "y.L6           0.0708      0.002     29.445      0.000       0.066       0.076\n",
      "y.L7           0.2401      0.002     99.641      0.000       0.235       0.245\n",
      "y.L8           0.0154      0.002      6.230      0.000       0.011       0.020\n",
      "y.L9          -0.0023      0.002     -0.920      0.358      -0.007       0.003\n",
      "y.L10         -0.0019      0.002     -0.759      0.448      -0.007       0.003\n",
      "y.L11         -0.0050      0.002     -2.001      0.045      -0.010      -0.000\n",
      "y.L12         -0.0003      0.002     -0.108      0.914      -0.005       0.005\n",
      "y.L13          0.0055      0.002      2.252      0.024       0.001       0.010\n",
      "y.L14          0.1752      0.002     71.532      0.000       0.170       0.180\n",
      "y.L15         -0.0254      0.002    -10.244      0.000      -0.030      -0.021\n",
      "y.L16         -0.0260      0.002    -10.472      0.000      -0.031      -0.021\n",
      "y.L17         -0.0265      0.002    -10.645      0.000      -0.031      -0.022\n",
      "y.L18         -0.0157      0.002     -6.329      0.000      -0.021      -0.011\n",
      "y.L19         -0.0048      0.002     -1.941      0.052      -0.010    4.81e-05\n",
      "y.L20         -0.0128      0.002     -5.209      0.000      -0.018      -0.008\n",
      "y.L21          0.1481      0.002     60.230      0.000       0.143       0.153\n",
      "y.L22         -0.0370      0.002    -14.886      0.000      -0.042      -0.032\n",
      "y.L23         -0.0219      0.002     -8.809      0.000      -0.027      -0.017\n",
      "y.L24         -0.0229      0.002     -9.199      0.000      -0.028      -0.018\n",
      "y.L25         -0.0156      0.002     -6.270      0.000      -0.020      -0.011\n",
      "y.L26         -0.0029      0.002     -1.178      0.239      -0.008       0.002\n",
      "y.L27         -0.0073      0.002     -2.981      0.003      -0.012      -0.003\n",
      "y.L28          0.1455      0.002     59.385      0.000       0.141       0.150\n",
      "y.L29         -0.0321      0.002    -12.973      0.000      -0.037      -0.027\n",
      "y.L30         -0.0152      0.002     -6.144      0.000      -0.020      -0.010\n",
      "y.L31         -0.0104      0.002     -4.183      0.000      -0.015      -0.006\n",
      "y.L32         -0.0111      0.002     -4.474      0.000      -0.016      -0.006\n",
      "y.L33         -0.0006      0.002     -0.249      0.803      -0.005       0.004\n",
      "y.L34         -0.0169      0.002     -7.033      0.000      -0.022      -0.012\n",
      "y.L35          0.1240      0.002     51.569      0.000       0.119       0.129\n",
      "y.L36         -0.0379      0.002    -15.677      0.000      -0.043      -0.033\n",
      "y.L37         -0.0372      0.002    -15.418      0.000      -0.042      -0.032\n",
      "y.L38         -0.0387      0.002    -16.091      0.000      -0.043      -0.034\n",
      "y.L39         -0.0287      0.002    -12.017      0.000      -0.033      -0.024\n",
      "y.L40         -0.0160      0.002     -6.790      0.000      -0.021      -0.011\n",
      "                                    Roots                                     \n",
      "==============================================================================\n",
      "                   Real          Imaginary           Modulus         Frequency\n",
      "------------------------------------------------------------------------------\n",
      "AR.1             1.0025           -0.0000j            1.0025           -0.0000\n",
      "AR.2             1.0626           -0.0000j            1.0626           -0.0000\n",
      "AR.3             1.0357           -0.2224j            1.0593           -0.0337\n",
      "AR.4             1.0357           +0.2224j            1.0593            0.0337\n",
      "AR.5             0.9819           -0.4072j            1.0630           -0.0626\n",
      "AR.6             0.9819           +0.4072j            1.0630            0.0626\n",
      "AR.7             0.9069           -0.5658j            1.0689           -0.0888\n",
      "AR.8             0.9069           +0.5658j            1.0689            0.0888\n",
      "AR.9             0.8004           -0.6974j            1.0616           -0.1141\n",
      "AR.10            0.8004           +0.6974j            1.0616            0.1141\n",
      "AR.11            0.6257           -0.7868j            1.0053           -0.1431\n",
      "AR.12            0.6257           +0.7868j            1.0053            0.1431\n",
      "AR.13            0.4976           -0.9424j            1.0657           -0.1727\n",
      "AR.14            0.4976           +0.9424j            1.0657            0.1727\n",
      "AR.15            0.3375           -1.0236j            1.0778           -0.1993\n",
      "AR.16            0.3375           +1.0236j            1.0778            0.1993\n",
      "AR.17            0.1618           -1.0660j            1.0782           -0.2260\n",
      "AR.18            0.1618           +1.0660j            1.0782            0.2260\n",
      "AR.19           -0.0297           -1.0675j            1.0679           -0.2544\n",
      "AR.20           -0.0297           +1.0675j            1.0679            0.2544\n",
      "AR.21           -0.2243           -0.9877j            1.0128           -0.2855\n",
      "AR.22           -0.2243           +0.9877j            1.0128            0.2855\n",
      "AR.23           -0.4333           -0.9741j            1.0661           -0.3166\n",
      "AR.24           -0.4333           +0.9741j            1.0661            0.3166\n",
      "AR.25           -1.0671           -0.0898j            1.0709           -0.4866\n",
      "AR.26           -1.0671           +0.0898j            1.0709            0.4866\n",
      "AR.27           -1.0289           -0.2647j            1.0624           -0.4599\n",
      "AR.28           -1.0289           +0.2647j            1.0624            0.4599\n",
      "AR.29           -0.9104           -0.4394j            1.0109           -0.4284\n",
      "AR.30           -0.9104           +0.4394j            1.0109            0.4284\n",
      "AR.31           -0.5949           -0.8983j            1.0774           -0.3431\n",
      "AR.32           -0.5949           +0.8983j            1.0774            0.3431\n",
      "AR.33           -0.8470           -0.6431j            1.0635           -0.3966\n",
      "AR.34           -0.8470           +0.6431j            1.0635            0.3966\n",
      "AR.35           -0.7345           -0.7863j            1.0760           -0.3696\n",
      "AR.36           -0.7345           +0.7863j            1.0760            0.3696\n",
      "AR.37            0.1357           -1.6002j            1.6060           -0.2365\n",
      "AR.38            0.1357           +1.6002j            1.6060            0.2365\n",
      "AR.39           -1.5448           -0.9922j            1.8360           -0.4091\n",
      "AR.40           -1.5448           +0.9922j            1.8360            0.4091\n",
      "------------------------------------------------------------------------------\n"
     ]
    }
   ],
   "source": [
    "model = AutoReg(train_data,lags=40).fit()\n",
    "print(model.summary())"
   ]
  },
  {
   "cell_type": "code",
   "execution_count": 29,
   "metadata": {
    "execution": {
     "iopub.execute_input": "2023-08-05T05:32:29.893381Z",
     "iopub.status.busy": "2023-08-05T05:32:29.892692Z",
     "iopub.status.idle": "2023-08-05T05:32:29.906443Z",
     "shell.execute_reply": "2023-08-05T05:32:29.905162Z",
     "shell.execute_reply.started": "2023-08-05T05:32:29.893331Z"
    }
   },
   "outputs": [
    {
     "data": {
      "text/plain": [
       "(180970, 180999)"
      ]
     },
     "execution_count": 29,
     "metadata": {},
     "output_type": "execute_result"
    }
   ],
   "source": [
    "len(train_data),len(x)-1"
   ]
  },
  {
   "cell_type": "code",
   "execution_count": 30,
   "metadata": {
    "execution": {
     "iopub.execute_input": "2023-08-05T05:32:29.909158Z",
     "iopub.status.busy": "2023-08-05T05:32:29.908214Z",
     "iopub.status.idle": "2023-08-05T05:32:29.939921Z",
     "shell.execute_reply": "2023-08-05T05:32:29.938747Z",
     "shell.execute_reply.started": "2023-08-05T05:32:29.909109Z"
    }
   },
   "outputs": [],
   "source": [
    "pred = model.predict(start=len(train_data),end=len(x)-1,dynamic=False)"
   ]
  },
  {
   "cell_type": "code",
   "execution_count": 31,
   "metadata": {
    "execution": {
     "iopub.execute_input": "2023-08-05T05:32:29.945281Z",
     "iopub.status.busy": "2023-08-05T05:32:29.944705Z",
     "iopub.status.idle": "2023-08-05T05:32:29.952173Z",
     "shell.execute_reply": "2023-08-05T05:32:29.951211Z",
     "shell.execute_reply.started": "2023-08-05T05:32:29.945236Z"
    }
   },
   "outputs": [
    {
     "data": {
      "text/plain": [
       "30"
      ]
     },
     "execution_count": 31,
     "metadata": {},
     "output_type": "execute_result"
    }
   ],
   "source": [
    "len(pred)"
   ]
  },
  {
   "cell_type": "code",
   "execution_count": 32,
   "metadata": {
    "execution": {
     "iopub.execute_input": "2023-08-05T05:32:29.954331Z",
     "iopub.status.busy": "2023-08-05T05:32:29.953989Z",
     "iopub.status.idle": "2023-08-05T05:32:29.964784Z",
     "shell.execute_reply": "2023-08-05T05:32:29.963652Z",
     "shell.execute_reply.started": "2023-08-05T05:32:29.954301Z"
    }
   },
   "outputs": [
    {
     "data": {
      "text/plain": [
       "array([49, 75, 54, 68, 60, 66, 67, 69, 69, 54, 67, 67, 72, 72, 52, 86, 53,\n",
       "       54, 51, 63, 75, 70, 76, 51, 41, 63, 59, 74, 62, 82])"
      ]
     },
     "execution_count": 32,
     "metadata": {},
     "output_type": "execute_result"
    }
   ],
   "source": [
    "test_data.flatten()"
   ]
  },
  {
   "cell_type": "code",
   "execution_count": 33,
   "metadata": {
    "execution": {
     "iopub.execute_input": "2023-08-05T05:32:29.966465Z",
     "iopub.status.busy": "2023-08-05T05:32:29.966071Z",
     "iopub.status.idle": "2023-08-05T05:32:30.219088Z",
     "shell.execute_reply": "2023-08-05T05:32:30.218147Z",
     "shell.execute_reply.started": "2023-08-05T05:32:29.966435Z"
    }
   },
   "outputs": [
    {
     "data": {
      "text/plain": [
       "[<matplotlib.lines.Line2D at 0x7e879be1d180>]"
      ]
     },
     "execution_count": 33,
     "metadata": {},
     "output_type": "execute_result"
    },
    {
     "data": {
      "image/png": "[encoded data removed]",
      "text/plain": [
       "<Figure size 640x480 with 1 Axes>"
      ]
     },
     "metadata": {},
     "output_type": "display_data"
    }
   ],
   "source": [
    "plt.plot(pred)\n",
    "plt.plot(test_data,color='red')"
   ]
  },
  {
   "cell_type": "code",
   "execution_count": 34,
   "metadata": {
    "execution": {
     "iopub.execute_input": "2023-08-05T05:32:30.221088Z",
     "iopub.status.busy": "2023-08-05T05:32:30.220415Z",
     "iopub.status.idle": "2023-08-05T05:32:30.378669Z",
     "shell.execute_reply": "2023-08-05T05:32:30.377662Z",
     "shell.execute_reply.started": "2023-08-05T05:32:30.221053Z"
    }
   },
   "outputs": [],
   "source": [
    "from math import sqrt\n",
    "from sklearn.metrics import mean_squared_error\n",
    "rmse = sqrt(mean_squared_error(test_data,pred))"
   ]
  },
  {
   "cell_type": "code",
   "execution_count": 35,
   "metadata": {
    "execution": {
     "iopub.execute_input": "2023-08-05T05:32:30.380629Z",
     "iopub.status.busy": "2023-08-05T05:32:30.380254Z",
     "iopub.status.idle": "2023-08-05T05:32:30.387199Z",
     "shell.execute_reply": "2023-08-05T05:32:30.386166Z",
     "shell.execute_reply.started": "2023-08-05T05:32:30.380597Z"
    }
   },
   "outputs": [
    {
     "name": "stdout",
     "output_type": "stream",
     "text": [
      "17.89765673754997\n"
     ]
    }
   ],
   "source": [
    "print(rmse)"
   ]
  },
  {
   "cell_type": "code",
   "execution_count": 36,
   "metadata": {
    "execution": {
     "iopub.execute_input": "2023-08-05T05:32:30.389478Z",
     "iopub.status.busy": "2023-08-05T05:32:30.388873Z",
     "iopub.status.idle": "2023-08-05T05:32:30.400731Z",
     "shell.execute_reply": "2023-08-05T05:32:30.399626Z",
     "shell.execute_reply.started": "2023-08-05T05:32:30.389443Z"
    }
   },
   "outputs": [
    {
     "data": {
      "text/plain": [
       "64.03333333333333"
      ]
     },
     "execution_count": 36,
     "metadata": {},
     "output_type": "execute_result"
    }
   ],
   "source": [
    "test_data.flatten().mean()"
   ]
  },
  {
   "cell_type": "code",
   "execution_count": 37,
   "metadata": {
    "execution": {
     "iopub.execute_input": "2023-08-05T05:32:30.402931Z",
     "iopub.status.busy": "2023-08-05T05:32:30.402571Z",
     "iopub.status.idle": "2023-08-05T05:32:30.412644Z",
     "shell.execute_reply": "2023-08-05T05:32:30.411594Z",
     "shell.execute_reply.started": "2023-08-05T05:32:30.402898Z"
    }
   },
   "outputs": [
    {
     "data": {
      "text/plain": [
       "(45000, 4)"
      ]
     },
     "execution_count": 37,
     "metadata": {},
     "output_type": "execute_result"
    }
   ],
   "source": [
    "test.shape"
   ]
  },
  {
   "cell_type": "code",
   "execution_count": 38,
   "metadata": {
    "execution": {
     "iopub.execute_input": "2023-08-05T05:32:30.414753Z",
     "iopub.status.busy": "2023-08-05T05:32:30.414126Z",
     "iopub.status.idle": "2023-08-05T05:32:30.447018Z",
     "shell.execute_reply": "2023-08-05T05:32:30.446103Z",
     "shell.execute_reply.started": "2023-08-05T05:32:30.414718Z"
    }
   },
   "outputs": [
    {
     "data": {
      "text/plain": [
       "(45000, 2)"
      ]
     },
     "execution_count": 38,
     "metadata": {},
     "output_type": "execute_result"
    }
   ],
   "source": [
    "submit = pd.read_csv('sample_submission.csv')\n",
    "submit.shape"
   ]
  },
  {
   "cell_type": "code",
   "execution_count": 39,
   "metadata": {
    "execution": {
     "iopub.execute_input": "2023-08-05T05:32:30.448901Z",
     "iopub.status.busy": "2023-08-05T05:32:30.448548Z",
     "iopub.status.idle": "2023-08-05T05:32:30.457459Z",
     "shell.execute_reply": "2023-08-05T05:32:30.456560Z",
     "shell.execute_reply.started": "2023-08-05T05:32:30.448868Z"
    }
   },
   "outputs": [
    {
     "data": {
      "text/html": [
       "<div>\n",
       "<style scoped>\n",
       "    .dataframe tbody tr th:only-of-type {\n",
       "        vertical-align: middle;\n",
       "    }\n",
       "\n",
       "    .dataframe tbody tr th {\n",
       "        vertical-align: top;\n",
       "    }\n",
       "\n",
       "    .dataframe thead th {\n",
       "        text-align: right;\n",
       "    }\n",
       "</style>\n",
       "<table border=\"1\" class=\"dataframe\">\n",
       "  <thead>\n",
       "    <tr style=\"text-align: right;\">\n",
       "      <th></th>\n",
       "      <th>id</th>\n",
       "      <th>sales</th>\n",
       "    </tr>\n",
       "  </thead>\n",
       "  <tbody>\n",
       "    <tr>\n",
       "      <th>0</th>\n",
       "      <td>0</td>\n",
       "      <td>52</td>\n",
       "    </tr>\n",
       "    <tr>\n",
       "      <th>1</th>\n",
       "      <td>1</td>\n",
       "      <td>52</td>\n",
       "    </tr>\n",
       "    <tr>\n",
       "      <th>2</th>\n",
       "      <td>2</td>\n",
       "      <td>52</td>\n",
       "    </tr>\n",
       "    <tr>\n",
       "      <th>3</th>\n",
       "      <td>3</td>\n",
       "      <td>52</td>\n",
       "    </tr>\n",
       "    <tr>\n",
       "      <th>4</th>\n",
       "      <td>4</td>\n",
       "      <td>52</td>\n",
       "    </tr>\n",
       "  </tbody>\n",
       "</table>\n",
       "</div>"
      ],
      "text/plain": [
       "   id  sales\n",
       "0   0     52\n",
       "1   1     52\n",
       "2   2     52\n",
       "3   3     52\n",
       "4   4     52"
      ]
     },
     "execution_count": 39,
     "metadata": {},
     "output_type": "execute_result"
    }
   ],
   "source": [
    "submit.head()"
   ]
  },
  {
   "cell_type": "code",
   "execution_count": 40,
   "metadata": {
    "execution": {
     "iopub.execute_input": "2023-08-05T05:32:30.459522Z",
     "iopub.status.busy": "2023-08-05T05:32:30.458929Z",
     "iopub.status.idle": "2023-08-05T05:32:30.474265Z",
     "shell.execute_reply": "2023-08-05T05:32:30.473216Z",
     "shell.execute_reply.started": "2023-08-05T05:32:30.459489Z"
    }
   },
   "outputs": [
    {
     "data": {
      "text/html": [
       "<div>\n",
       "<style scoped>\n",
       "    .dataframe tbody tr th:only-of-type {\n",
       "        vertical-align: middle;\n",
       "    }\n",
       "\n",
       "    .dataframe tbody tr th {\n",
       "        vertical-align: top;\n",
       "    }\n",
       "\n",
       "    .dataframe thead th {\n",
       "        text-align: right;\n",
       "    }\n",
       "</style>\n",
       "<table border=\"1\" class=\"dataframe\">\n",
       "  <thead>\n",
       "    <tr style=\"text-align: right;\">\n",
       "      <th></th>\n",
       "      <th>id</th>\n",
       "      <th>date</th>\n",
       "      <th>store</th>\n",
       "      <th>item</th>\n",
       "    </tr>\n",
       "  </thead>\n",
       "  <tbody>\n",
       "    <tr>\n",
       "      <th>0</th>\n",
       "      <td>0</td>\n",
       "      <td>2018-01-01</td>\n",
       "      <td>1</td>\n",
       "      <td>1</td>\n",
       "    </tr>\n",
       "    <tr>\n",
       "      <th>1</th>\n",
       "      <td>1</td>\n",
       "      <td>2018-01-02</td>\n",
       "      <td>1</td>\n",
       "      <td>1</td>\n",
       "    </tr>\n",
       "    <tr>\n",
       "      <th>2</th>\n",
       "      <td>2</td>\n",
       "      <td>2018-01-03</td>\n",
       "      <td>1</td>\n",
       "      <td>1</td>\n",
       "    </tr>\n",
       "    <tr>\n",
       "      <th>3</th>\n",
       "      <td>3</td>\n",
       "      <td>2018-01-04</td>\n",
       "      <td>1</td>\n",
       "      <td>1</td>\n",
       "    </tr>\n",
       "    <tr>\n",
       "      <th>4</th>\n",
       "      <td>4</td>\n",
       "      <td>2018-01-05</td>\n",
       "      <td>1</td>\n",
       "      <td>1</td>\n",
       "    </tr>\n",
       "  </tbody>\n",
       "</table>\n",
       "</div>"
      ],
      "text/plain": [
       "   id        date  store  item\n",
       "0   0  2018-01-01      1     1\n",
       "1   1  2018-01-02      1     1\n",
       "2   2  2018-01-03      1     1\n",
       "3   3  2018-01-04      1     1\n",
       "4   4  2018-01-05      1     1"
      ]
     },
     "execution_count": 40,
     "metadata": {},
     "output_type": "execute_result"
    }
   ],
   "source": [
    "test.head()"
   ]
  },
  {
   "cell_type": "code",
   "execution_count": 41,
   "metadata": {
    "execution": {
     "iopub.execute_input": "2023-08-05T05:32:30.476232Z",
     "iopub.status.busy": "2023-08-05T05:32:30.475869Z",
     "iopub.status.idle": "2023-08-05T05:32:30.492606Z",
     "shell.execute_reply": "2023-08-05T05:32:30.491669Z",
     "shell.execute_reply.started": "2023-08-05T05:32:30.476199Z"
    }
   },
   "outputs": [
    {
     "data": {
      "text/html": [
       "<div>\n",
       "<style scoped>\n",
       "    .dataframe tbody tr th:only-of-type {\n",
       "        vertical-align: middle;\n",
       "    }\n",
       "\n",
       "    .dataframe tbody tr th {\n",
       "        vertical-align: top;\n",
       "    }\n",
       "\n",
       "    .dataframe thead th {\n",
       "        text-align: right;\n",
       "    }\n",
       "</style>\n",
       "<table border=\"1\" class=\"dataframe\">\n",
       "  <thead>\n",
       "    <tr style=\"text-align: right;\">\n",
       "      <th></th>\n",
       "      <th>date</th>\n",
       "      <th>store</th>\n",
       "      <th>item</th>\n",
       "      <th>sales</th>\n",
       "      <th>year</th>\n",
       "      <th>month</th>\n",
       "    </tr>\n",
       "  </thead>\n",
       "  <tbody>\n",
       "    <tr>\n",
       "      <th>912995</th>\n",
       "      <td>2017-12-27</td>\n",
       "      <td>10</td>\n",
       "      <td>50</td>\n",
       "      <td>63</td>\n",
       "      <td>2017</td>\n",
       "      <td>12</td>\n",
       "    </tr>\n",
       "    <tr>\n",
       "      <th>912996</th>\n",
       "      <td>2017-12-28</td>\n",
       "      <td>10</td>\n",
       "      <td>50</td>\n",
       "      <td>59</td>\n",
       "      <td>2017</td>\n",
       "      <td>12</td>\n",
       "    </tr>\n",
       "    <tr>\n",
       "      <th>912997</th>\n",
       "      <td>2017-12-29</td>\n",
       "      <td>10</td>\n",
       "      <td>50</td>\n",
       "      <td>74</td>\n",
       "      <td>2017</td>\n",
       "      <td>12</td>\n",
       "    </tr>\n",
       "    <tr>\n",
       "      <th>912998</th>\n",
       "      <td>2017-12-30</td>\n",
       "      <td>10</td>\n",
       "      <td>50</td>\n",
       "      <td>62</td>\n",
       "      <td>2017</td>\n",
       "      <td>12</td>\n",
       "    </tr>\n",
       "    <tr>\n",
       "      <th>912999</th>\n",
       "      <td>2017-12-31</td>\n",
       "      <td>10</td>\n",
       "      <td>50</td>\n",
       "      <td>82</td>\n",
       "      <td>2017</td>\n",
       "      <td>12</td>\n",
       "    </tr>\n",
       "  </tbody>\n",
       "</table>\n",
       "</div>"
      ],
      "text/plain": [
       "             date  store  item  sales  year  month\n",
       "912995 2017-12-27     10    50     63  2017     12\n",
       "912996 2017-12-28     10    50     59  2017     12\n",
       "912997 2017-12-29     10    50     74  2017     12\n",
       "912998 2017-12-30     10    50     62  2017     12\n",
       "912999 2017-12-31     10    50     82  2017     12"
      ]
     },
     "execution_count": 41,
     "metadata": {},
     "output_type": "execute_result"
    }
   ],
   "source": [
    "train.tail()"
   ]
  },
  {
   "cell_type": "code",
   "execution_count": 42,
   "metadata": {
    "execution": {
     "iopub.execute_input": "2023-08-05T05:32:30.495371Z",
     "iopub.status.busy": "2023-08-05T05:32:30.495005Z",
     "iopub.status.idle": "2023-08-05T05:32:37.176204Z",
     "shell.execute_reply": "2023-08-05T05:32:37.175226Z",
     "shell.execute_reply.started": "2023-08-05T05:32:30.495337Z"
    }
   },
   "outputs": [],
   "source": [
    "pred_test = model.predict(start=len(x),end=len(x)+44999,dynamic=False)"
   ]
  },
  {
   "cell_type": "code",
   "execution_count": 49,
   "metadata": {
    "execution": {
     "iopub.execute_input": "2023-08-05T05:38:05.332346Z",
     "iopub.status.busy": "2023-08-05T05:38:05.331948Z",
     "iopub.status.idle": "2023-08-05T05:38:05.337125Z",
     "shell.execute_reply": "2023-08-05T05:38:05.335937Z",
     "shell.execute_reply.started": "2023-08-05T05:38:05.332313Z"
    }
   },
   "outputs": [],
   "source": [
    "pred_test = pd.DataFrame(pred_test)"
   ]
  },
  {
   "cell_type": "code",
   "execution_count": 53,
   "metadata": {
    "execution": {
     "iopub.execute_input": "2023-08-05T05:39:19.964501Z",
     "iopub.status.busy": "2023-08-05T05:39:19.964128Z",
     "iopub.status.idle": "2023-08-05T05:39:19.969362Z",
     "shell.execute_reply": "2023-08-05T05:39:19.968428Z",
     "shell.execute_reply.started": "2023-08-05T05:39:19.964472Z"
    }
   },
   "outputs": [],
   "source": [
    "start = len(x)\n",
    "end = len(x)+44999\n",
    "pred_test.index=test.index[0:45000]"
   ]
  },
  {
   "cell_type": "code",
   "execution_count": 55,
   "metadata": {
    "execution": {
     "iopub.execute_input": "2023-08-05T05:39:45.594841Z",
     "iopub.status.busy": "2023-08-05T05:39:45.594466Z",
     "iopub.status.idle": "2023-08-05T05:39:45.928118Z",
     "shell.execute_reply": "2023-08-05T05:39:45.927134Z",
     "shell.execute_reply.started": "2023-08-05T05:39:45.594812Z"
    }
   },
   "outputs": [
    {
     "data": {
      "text/plain": [
       "<Axes: >"
      ]
     },
     "execution_count": 55,
     "metadata": {},
     "output_type": "execute_result"
    },
    {
     "data": {
      "image/png": "[encoded data removed]",
      "text/plain": [
       "<Figure size 1200x500 with 1 Axes>"
      ]
     },
     "metadata": {},
     "output_type": "display_data"
    }
   ],
   "source": [
    "pred_test.plot(figsize=(12,5),legend=True)"
   ]
  },
  {
   "cell_type": "code",
   "execution_count": 67,
   "metadata": {
    "execution": {
     "iopub.execute_input": "2023-08-05T05:44:27.962080Z",
     "iopub.status.busy": "2023-08-05T05:44:27.961706Z",
     "iopub.status.idle": "2023-08-05T05:44:27.969198Z",
     "shell.execute_reply": "2023-08-05T05:44:27.968238Z",
     "shell.execute_reply.started": "2023-08-05T05:44:27.962049Z"
    }
   },
   "outputs": [
    {
     "data": {
      "text/plain": [
       "Int64Index([0], dtype='int64')"
      ]
     },
     "execution_count": 67,
     "metadata": {},
     "output_type": "execute_result"
    }
   ],
   "source": [
    "pred_test.columns"
   ]
  },
  {
   "cell_type": "code",
   "execution_count": 71,
   "metadata": {
    "execution": {
     "iopub.execute_input": "2023-08-05T05:45:19.668531Z",
     "iopub.status.busy": "2023-08-05T05:45:19.667842Z",
     "iopub.status.idle": "2023-08-05T05:45:19.675124Z",
     "shell.execute_reply": "2023-08-05T05:45:19.674097Z",
     "shell.execute_reply.started": "2023-08-05T05:45:19.668488Z"
    }
   },
   "outputs": [],
   "source": [
    "submit['sales']=pred_test[[0]]"
   ]
  },
  {
   "cell_type": "code",
   "execution_count": 72,
   "metadata": {
    "execution": {
     "iopub.execute_input": "2023-08-05T05:45:32.876992Z",
     "iopub.status.busy": "2023-08-05T05:45:32.876622Z",
     "iopub.status.idle": "2023-08-05T05:45:32.889389Z",
     "shell.execute_reply": "2023-08-05T05:45:32.888142Z",
     "shell.execute_reply.started": "2023-08-05T05:45:32.876962Z"
    }
   },
   "outputs": [
    {
     "data": {
      "text/html": [
       "<div>\n",
       "<style scoped>\n",
       "    .dataframe tbody tr th:only-of-type {\n",
       "        vertical-align: middle;\n",
       "    }\n",
       "\n",
       "    .dataframe tbody tr th {\n",
       "        vertical-align: top;\n",
       "    }\n",
       "\n",
       "    .dataframe thead th {\n",
       "        text-align: right;\n",
       "    }\n",
       "</style>\n",
       "<table border=\"1\" class=\"dataframe\">\n",
       "  <thead>\n",
       "    <tr style=\"text-align: right;\">\n",
       "      <th></th>\n",
       "      <th>id</th>\n",
       "      <th>sales</th>\n",
       "    </tr>\n",
       "  </thead>\n",
       "  <tbody>\n",
       "    <tr>\n",
       "      <th>0</th>\n",
       "      <td>0</td>\n",
       "      <td>69.356867</td>\n",
       "    </tr>\n",
       "    <tr>\n",
       "      <th>1</th>\n",
       "      <td>1</td>\n",
       "      <td>69.146571</td>\n",
       "    </tr>\n",
       "    <tr>\n",
       "      <th>2</th>\n",
       "      <td>2</td>\n",
       "      <td>72.384511</td>\n",
       "    </tr>\n",
       "    <tr>\n",
       "      <th>3</th>\n",
       "      <td>3</td>\n",
       "      <td>74.655412</td>\n",
       "    </tr>\n",
       "    <tr>\n",
       "      <th>4</th>\n",
       "      <td>4</td>\n",
       "      <td>74.542746</td>\n",
       "    </tr>\n",
       "    <tr>\n",
       "      <th>...</th>\n",
       "      <td>...</td>\n",
       "      <td>...</td>\n",
       "    </tr>\n",
       "    <tr>\n",
       "      <th>44995</th>\n",
       "      <td>44995</td>\n",
       "      <td>59.126690</td>\n",
       "    </tr>\n",
       "    <tr>\n",
       "      <th>44996</th>\n",
       "      <td>44996</td>\n",
       "      <td>59.126690</td>\n",
       "    </tr>\n",
       "    <tr>\n",
       "      <th>44997</th>\n",
       "      <td>44997</td>\n",
       "      <td>59.126690</td>\n",
       "    </tr>\n",
       "    <tr>\n",
       "      <th>44998</th>\n",
       "      <td>44998</td>\n",
       "      <td>59.126690</td>\n",
       "    </tr>\n",
       "    <tr>\n",
       "      <th>44999</th>\n",
       "      <td>44999</td>\n",
       "      <td>59.126690</td>\n",
       "    </tr>\n",
       "  </tbody>\n",
       "</table>\n",
       "<p>45000 rows × 2 columns</p>\n",
       "</div>"
      ],
      "text/plain": [
       "          id      sales\n",
       "0          0  69.356867\n",
       "1          1  69.146571\n",
       "2          2  72.384511\n",
       "3          3  74.655412\n",
       "4          4  74.542746\n",
       "...      ...        ...\n",
       "44995  44995  59.126690\n",
       "44996  44996  59.126690\n",
       "44997  44997  59.126690\n",
       "44998  44998  59.126690\n",
       "44999  44999  59.126690\n",
       "\n",
       "[45000 rows x 2 columns]"
      ]
     },
     "execution_count": 72,
     "metadata": {},
     "output_type": "execute_result"
    }
   ],
   "source": [
    "submit"
   ]
  },
  {
   "cell_type": "code",
   "execution_count": 73,
   "metadata": {
    "execution": {
     "iopub.execute_input": "2023-08-05T05:45:48.343885Z",
     "iopub.status.busy": "2023-08-05T05:45:48.343173Z",
     "iopub.status.idle": "2023-08-05T05:45:48.531686Z",
     "shell.execute_reply": "2023-08-05T05:45:48.530633Z",
     "shell.execute_reply.started": "2023-08-05T05:45:48.343852Z"
    }
   },
   "outputs": [],
   "source": [
    "submit.to_csv('submission.csv')"
   ]
  },
  {
   "cell_type": "markdown",
   "metadata": {},
   "source": [
    "# Using ARIMA model"
   ]
  },
  {
   "cell_type": "code",
   "execution_count": 76,
   "metadata": {
    "execution": {
     "iopub.execute_input": "2023-08-05T05:46:16.391096Z",
     "iopub.status.busy": "2023-08-05T05:46:16.390691Z",
     "iopub.status.idle": "2023-08-05T05:46:17.909267Z",
     "shell.execute_reply": "2023-08-05T05:46:17.908239Z",
     "shell.execute_reply.started": "2023-08-05T05:46:16.391059Z"
    }
   },
   "outputs": [],
   "source": [
    "from pmdarima import auto_arima"
   ]
  },
  {
   "cell_type": "code",
   "execution_count": 97,
   "metadata": {
    "execution": {
     "iopub.execute_input": "2023-08-05T05:51:30.271643Z",
     "iopub.status.busy": "2023-08-05T05:51:30.270952Z",
     "iopub.status.idle": "2023-08-05T05:51:30.279469Z",
     "shell.execute_reply": "2023-08-05T05:51:30.278460Z",
     "shell.execute_reply.started": "2023-08-05T05:51:30.271602Z"
    }
   },
   "outputs": [],
   "source": [
    "new_df = new_df[new_df.index>'2017-07-01']"
   ]
  },
  {
   "cell_type": "code",
   "execution_count": 98,
   "metadata": {
    "execution": {
     "iopub.execute_input": "2023-08-05T05:51:32.106380Z",
     "iopub.status.busy": "2023-08-05T05:51:32.105992Z",
     "iopub.status.idle": "2023-08-05T05:51:32.118222Z",
     "shell.execute_reply": "2023-08-05T05:51:32.117003Z",
     "shell.execute_reply.started": "2023-08-05T05:51:32.106349Z"
    }
   },
   "outputs": [
    {
     "data": {
      "text/html": [
       "<div>\n",
       "<style scoped>\n",
       "    .dataframe tbody tr th:only-of-type {\n",
       "        vertical-align: middle;\n",
       "    }\n",
       "\n",
       "    .dataframe tbody tr th {\n",
       "        vertical-align: top;\n",
       "    }\n",
       "\n",
       "    .dataframe thead th {\n",
       "        text-align: right;\n",
       "    }\n",
       "</style>\n",
       "<table border=\"1\" class=\"dataframe\">\n",
       "  <thead>\n",
       "    <tr style=\"text-align: right;\">\n",
       "      <th></th>\n",
       "      <th>sales</th>\n",
       "    </tr>\n",
       "    <tr>\n",
       "      <th>date</th>\n",
       "      <th></th>\n",
       "    </tr>\n",
       "  </thead>\n",
       "  <tbody>\n",
       "    <tr>\n",
       "      <th>2017-07-02</th>\n",
       "      <td>38</td>\n",
       "    </tr>\n",
       "    <tr>\n",
       "      <th>2017-07-03</th>\n",
       "      <td>18</td>\n",
       "    </tr>\n",
       "    <tr>\n",
       "      <th>2017-07-04</th>\n",
       "      <td>23</td>\n",
       "    </tr>\n",
       "    <tr>\n",
       "      <th>2017-07-05</th>\n",
       "      <td>23</td>\n",
       "    </tr>\n",
       "    <tr>\n",
       "      <th>2017-07-06</th>\n",
       "      <td>31</td>\n",
       "    </tr>\n",
       "  </tbody>\n",
       "</table>\n",
       "</div>"
      ],
      "text/plain": [
       "            sales\n",
       "date             \n",
       "2017-07-02     38\n",
       "2017-07-03     18\n",
       "2017-07-04     23\n",
       "2017-07-05     23\n",
       "2017-07-06     31"
      ]
     },
     "execution_count": 98,
     "metadata": {},
     "output_type": "execute_result"
    }
   ],
   "source": [
    "new_df.head()"
   ]
  },
  {
   "cell_type": "code",
   "execution_count": 99,
   "metadata": {
    "execution": {
     "iopub.execute_input": "2023-08-05T05:51:38.039702Z",
     "iopub.status.busy": "2023-08-05T05:51:38.039022Z",
     "iopub.status.idle": "2023-08-05T06:41:20.846562Z",
     "shell.execute_reply": "2023-08-05T06:41:20.843269Z",
     "shell.execute_reply.started": "2023-08-05T05:51:38.039668Z"
    }
   },
   "outputs": [
    {
     "name": "stdout",
     "output_type": "stream",
     "text": [
      "Performing stepwise search to minimize aic\n",
      " ARIMA(2,1,2)(0,0,0)[0] intercept   : AIC=734223.406, Time=48.96 sec\n",
      " ARIMA(0,1,0)(0,0,0)[0] intercept   : AIC=769534.007, Time=2.22 sec\n",
      " ARIMA(1,1,0)(0,0,0)[0] intercept   : AIC=752043.568, Time=2.71 sec\n",
      " ARIMA(0,1,1)(0,0,0)[0] intercept   : AIC=735459.262, Time=13.27 sec\n",
      " ARIMA(0,1,0)(0,0,0)[0]             : AIC=769532.007, Time=1.18 sec\n",
      " ARIMA(1,1,2)(0,0,0)[0] intercept   : AIC=734378.141, Time=26.17 sec\n",
      " ARIMA(2,1,1)(0,0,0)[0] intercept   : AIC=734282.160, Time=39.74 sec\n",
      " ARIMA(3,1,2)(0,0,0)[0] intercept   : AIC=727414.870, Time=86.92 sec\n",
      " ARIMA(3,1,1)(0,0,0)[0] intercept   : AIC=732726.090, Time=40.04 sec\n",
      " ARIMA(4,1,2)(0,0,0)[0] intercept   : AIC=729938.655, Time=83.54 sec\n",
      " ARIMA(3,1,3)(0,0,0)[0] intercept   : AIC=713271.551, Time=169.37 sec\n",
      " ARIMA(2,1,3)(0,0,0)[0] intercept   : AIC=732434.901, Time=110.32 sec\n",
      " ARIMA(4,1,3)(0,0,0)[0] intercept   : AIC=723172.379, Time=214.24 sec\n",
      " ARIMA(3,1,4)(0,0,0)[0] intercept   : AIC=inf, Time=231.81 sec\n",
      " ARIMA(2,1,4)(0,0,0)[0] intercept   : AIC=713093.589, Time=196.16 sec\n",
      " ARIMA(1,1,4)(0,0,0)[0] intercept   : AIC=731716.857, Time=73.90 sec\n",
      " ARIMA(2,1,5)(0,0,0)[0] intercept   : AIC=730571.648, Time=132.72 sec\n",
      " ARIMA(1,1,3)(0,0,0)[0] intercept   : AIC=734004.814, Time=50.01 sec\n",
      " ARIMA(1,1,5)(0,0,0)[0] intercept   : AIC=730625.294, Time=97.18 sec\n",
      " ARIMA(3,1,5)(0,0,0)[0] intercept   : AIC=712703.409, Time=229.99 sec\n",
      " ARIMA(4,1,5)(0,0,0)[0] intercept   : AIC=inf, Time=251.80 sec\n",
      " ARIMA(4,1,4)(0,0,0)[0] intercept   : AIC=712867.514, Time=212.83 sec\n",
      " ARIMA(3,1,5)(0,0,0)[0]             : AIC=712702.492, Time=120.70 sec\n",
      " ARIMA(2,1,5)(0,0,0)[0]             : AIC=730569.649, Time=71.77 sec\n",
      " ARIMA(3,1,4)(0,0,0)[0]             : AIC=inf, Time=120.25 sec\n",
      " ARIMA(4,1,5)(0,0,0)[0]             : AIC=inf, Time=134.64 sec\n",
      " ARIMA(2,1,4)(0,0,0)[0]             : AIC=712951.420, Time=99.26 sec\n",
      " ARIMA(4,1,4)(0,0,0)[0]             : AIC=712869.974, Time=118.66 sec\n",
      "\n",
      "Best model:  ARIMA(3,1,5)(0,0,0)[0]          \n",
      "Total fit time: 2980.448 seconds\n"
     ]
    },
    {
     "data": {
      "text/html": [
       "<table class=\"simpletable\">\n",
       "<caption>SARIMAX Results</caption>\n",
       "<tr>\n",
       "  <th>Dep. Variable:</th>           <td>y</td>        <th>  No. Observations:  </th>    <td>91500</td>   \n",
       "</tr>\n",
       "<tr>\n",
       "  <th>Model:</th>           <td>SARIMAX(3, 1, 5)</td> <th>  Log Likelihood     </th> <td>-356342.246</td>\n",
       "</tr>\n",
       "<tr>\n",
       "  <th>Date:</th>            <td>Sat, 05 Aug 2023</td> <th>  AIC                </th> <td>712702.492</td> \n",
       "</tr>\n",
       "<tr>\n",
       "  <th>Time:</th>                <td>06:41:18</td>     <th>  BIC                </th> <td>712787.309</td> \n",
       "</tr>\n",
       "<tr>\n",
       "  <th>Sample:</th>                  <td>0</td>        <th>  HQIC               </th> <td>712728.335</td> \n",
       "</tr>\n",
       "<tr>\n",
       "  <th></th>                     <td> - 91500</td>     <th>                     </th>      <td> </td>     \n",
       "</tr>\n",
       "<tr>\n",
       "  <th>Covariance Type:</th>        <td>opg</td>       <th>                     </th>      <td> </td>     \n",
       "</tr>\n",
       "</table>\n",
       "<table class=\"simpletable\">\n",
       "<tr>\n",
       "     <td></td>       <th>coef</th>     <th>std err</th>      <th>z</th>      <th>P>|z|</th>  <th>[0.025</th>    <th>0.975]</th>  \n",
       "</tr>\n",
       "<tr>\n",
       "  <th>ar.L1</th>  <td>    0.2669</td> <td>    0.009</td> <td>   28.149</td> <td> 0.000</td> <td>    0.248</td> <td>    0.285</td>\n",
       "</tr>\n",
       "<tr>\n",
       "  <th>ar.L2</th>  <td>    0.2381</td> <td>    0.012</td> <td>   20.066</td> <td> 0.000</td> <td>    0.215</td> <td>    0.261</td>\n",
       "</tr>\n",
       "<tr>\n",
       "  <th>ar.L3</th>  <td>   -0.9852</td> <td>    0.009</td> <td> -104.081</td> <td> 0.000</td> <td>   -1.004</td> <td>   -0.967</td>\n",
       "</tr>\n",
       "<tr>\n",
       "  <th>ma.L1</th>  <td>   -1.1043</td> <td>    0.010</td> <td> -114.027</td> <td> 0.000</td> <td>   -1.123</td> <td>   -1.085</td>\n",
       "</tr>\n",
       "<tr>\n",
       "  <th>ma.L2</th>  <td>    0.0786</td> <td>    0.020</td> <td>    4.021</td> <td> 0.000</td> <td>    0.040</td> <td>    0.117</td>\n",
       "</tr>\n",
       "<tr>\n",
       "  <th>ma.L3</th>  <td>    1.1498</td> <td>    0.019</td> <td>   59.758</td> <td> 0.000</td> <td>    1.112</td> <td>    1.188</td>\n",
       "</tr>\n",
       "<tr>\n",
       "  <th>ma.L4</th>  <td>   -0.8402</td> <td>    0.009</td> <td>  -96.929</td> <td> 0.000</td> <td>   -0.857</td> <td>   -0.823</td>\n",
       "</tr>\n",
       "<tr>\n",
       "  <th>ma.L5</th>  <td>    0.1179</td> <td>    0.003</td> <td>   45.306</td> <td> 0.000</td> <td>    0.113</td> <td>    0.123</td>\n",
       "</tr>\n",
       "<tr>\n",
       "  <th>sigma2</th> <td>  140.4096</td> <td>    0.340</td> <td>  412.993</td> <td> 0.000</td> <td>  139.743</td> <td>  141.076</td>\n",
       "</tr>\n",
       "</table>\n",
       "<table class=\"simpletable\">\n",
       "<tr>\n",
       "  <th>Ljung-Box (L1) (Q):</th>     <td>7.50</td> <th>  Jarque-Bera (JB):  </th> <td>183141.25</td>\n",
       "</tr>\n",
       "<tr>\n",
       "  <th>Prob(Q):</th>                <td>0.01</td> <th>  Prob(JB):          </th>   <td>0.00</td>   \n",
       "</tr>\n",
       "<tr>\n",
       "  <th>Heteroskedasticity (H):</th> <td>0.84</td> <th>  Skew:              </th>   <td>0.78</td>   \n",
       "</tr>\n",
       "<tr>\n",
       "  <th>Prob(H) (two-sided):</th>    <td>0.00</td> <th>  Kurtosis:          </th>   <td>9.75</td>   \n",
       "</tr>\n",
       "</table><br/><br/>Warnings:<br/>[1] Covariance matrix calculated using the outer product of gradients (complex-step)."
      ],
      "text/latex": [
       "\\begin{center}\n",
       "\\begin{tabular}{lclc}\n",
       "\\toprule\n",
       "\\textbf{Dep. Variable:}          &        y         & \\textbf{  No. Observations:  } &    91500     \\\\\n",
       "\\textbf{Model:}                  & SARIMAX(3, 1, 5) & \\textbf{  Log Likelihood     } & -356342.246  \\\\\n",
       "\\textbf{Date:}                   & Sat, 05 Aug 2023 & \\textbf{  AIC                } &  712702.492  \\\\\n",
       "\\textbf{Time:}                   &     06:41:18     & \\textbf{  BIC                } &  712787.309  \\\\\n",
       "\\textbf{Sample:}                 &        0         & \\textbf{  HQIC               } &  712728.335  \\\\\n",
       "\\textbf{}                        &      - 91500     & \\textbf{                     } &              \\\\\n",
       "\\textbf{Covariance Type:}        &       opg        & \\textbf{                     } &              \\\\\n",
       "\\bottomrule\n",
       "\\end{tabular}\n",
       "\\begin{tabular}{lcccccc}\n",
       "                & \\textbf{coef} & \\textbf{std err} & \\textbf{z} & \\textbf{P$> |$z$|$} & \\textbf{[0.025} & \\textbf{0.975]}  \\\\\n",
       "\\midrule\n",
       "\\textbf{ar.L1}  &       0.2669  &        0.009     &    28.149  &         0.000        &        0.248    &        0.285     \\\\\n",
       "\\textbf{ar.L2}  &       0.2381  &        0.012     &    20.066  &         0.000        &        0.215    &        0.261     \\\\\n",
       "\\textbf{ar.L3}  &      -0.9852  &        0.009     &  -104.081  &         0.000        &       -1.004    &       -0.967     \\\\\n",
       "\\textbf{ma.L1}  &      -1.1043  &        0.010     &  -114.027  &         0.000        &       -1.123    &       -1.085     \\\\\n",
       "\\textbf{ma.L2}  &       0.0786  &        0.020     &     4.021  &         0.000        &        0.040    &        0.117     \\\\\n",
       "\\textbf{ma.L3}  &       1.1498  &        0.019     &    59.758  &         0.000        &        1.112    &        1.188     \\\\\n",
       "\\textbf{ma.L4}  &      -0.8402  &        0.009     &   -96.929  &         0.000        &       -0.857    &       -0.823     \\\\\n",
       "\\textbf{ma.L5}  &       0.1179  &        0.003     &    45.306  &         0.000        &        0.113    &        0.123     \\\\\n",
       "\\textbf{sigma2} &     140.4096  &        0.340     &   412.993  &         0.000        &      139.743    &      141.076     \\\\\n",
       "\\bottomrule\n",
       "\\end{tabular}\n",
       "\\begin{tabular}{lclc}\n",
       "\\textbf{Ljung-Box (L1) (Q):}     & 7.50 & \\textbf{  Jarque-Bera (JB):  } & 183141.25  \\\\\n",
       "\\textbf{Prob(Q):}                & 0.01 & \\textbf{  Prob(JB):          } &    0.00    \\\\\n",
       "\\textbf{Heteroskedasticity (H):} & 0.84 & \\textbf{  Skew:              } &    0.78    \\\\\n",
       "\\textbf{Prob(H) (two-sided):}    & 0.00 & \\textbf{  Kurtosis:          } &    9.75    \\\\\n",
       "\\bottomrule\n",
       "\\end{tabular}\n",
       "%\\caption{SARIMAX Results}\n",
       "\\end{center}\n",
       "\n",
       "Warnings: \\newline\n",
       " [1] Covariance matrix calculated using the outer product of gradients (complex-step)."
      ],
      "text/plain": [
       "<class 'statsmodels.iolib.summary.Summary'>\n",
       "\"\"\"\n",
       "                               SARIMAX Results                                \n",
       "==============================================================================\n",
       "Dep. Variable:                      y   No. Observations:                91500\n",
       "Model:               SARIMAX(3, 1, 5)   Log Likelihood             -356342.246\n",
       "Date:                Sat, 05 Aug 2023   AIC                         712702.492\n",
       "Time:                        06:41:18   BIC                         712787.309\n",
       "Sample:                             0   HQIC                        712728.335\n",
       "                              - 91500                                         \n",
       "Covariance Type:                  opg                                         \n",
       "==============================================================================\n",
       "                 coef    std err          z      P>|z|      [0.025      0.975]\n",
       "------------------------------------------------------------------------------\n",
       "ar.L1          0.2669      0.009     28.149      0.000       0.248       0.285\n",
       "ar.L2          0.2381      0.012     20.066      0.000       0.215       0.261\n",
       "ar.L3         -0.9852      0.009   -104.081      0.000      -1.004      -0.967\n",
       "ma.L1         -1.1043      0.010   -114.027      0.000      -1.123      -1.085\n",
       "ma.L2          0.0786      0.020      4.021      0.000       0.040       0.117\n",
       "ma.L3          1.1498      0.019     59.758      0.000       1.112       1.188\n",
       "ma.L4         -0.8402      0.009    -96.929      0.000      -0.857      -0.823\n",
       "ma.L5          0.1179      0.003     45.306      0.000       0.113       0.123\n",
       "sigma2       140.4096      0.340    412.993      0.000     139.743     141.076\n",
       "===================================================================================\n",
       "Ljung-Box (L1) (Q):                   7.50   Jarque-Bera (JB):            183141.25\n",
       "Prob(Q):                              0.01   Prob(JB):                         0.00\n",
       "Heteroskedasticity (H):               0.84   Skew:                             0.78\n",
       "Prob(H) (two-sided):                  0.00   Kurtosis:                         9.75\n",
       "===================================================================================\n",
       "\n",
       "Warnings:\n",
       "[1] Covariance matrix calculated using the outer product of gradients (complex-step).\n",
       "\"\"\""
      ]
     },
     "execution_count": 99,
     "metadata": {},
     "output_type": "execute_result"
    }
   ],
   "source": [
    "stepwise=auto_arima(new_df['sales'],trace=True)\n",
    "stepwise.summary()"
   ]
  },
  {
   "cell_type": "code",
   "execution_count": 109,
   "metadata": {
    "execution": {
     "iopub.execute_input": "2023-08-05T06:52:30.351760Z",
     "iopub.status.busy": "2023-08-05T06:52:30.350843Z",
     "iopub.status.idle": "2023-08-05T06:52:30.356968Z",
     "shell.execute_reply": "2023-08-05T06:52:30.355969Z",
     "shell.execute_reply.started": "2023-08-05T06:52:30.351718Z"
    }
   },
   "outputs": [],
   "source": [
    "from statsmodels.tsa.arima.model import ARIMA"
   ]
  },
  {
   "cell_type": "code",
   "execution_count": 103,
   "metadata": {
    "execution": {
     "iopub.execute_input": "2023-08-05T06:46:49.413325Z",
     "iopub.status.busy": "2023-08-05T06:46:49.412834Z",
     "iopub.status.idle": "2023-08-05T06:46:49.431999Z",
     "shell.execute_reply": "2023-08-05T06:46:49.430337Z",
     "shell.execute_reply.started": "2023-08-05T06:46:49.413283Z"
    }
   },
   "outputs": [
    {
     "name": "stdout",
     "output_type": "stream",
     "text": [
      "(91500, 1)\n",
      "(91000, 1)\n",
      "(500, 1)\n"
     ]
    }
   ],
   "source": [
    "print(new_df.shape)\n",
    "new_train = new_df.iloc[:-500]\n",
    "new_test = new_df.iloc[-500:]\n",
    "print(new_train.shape)\n",
    "print(new_test.shape)"
   ]
  },
  {
   "cell_type": "code",
   "execution_count": 107,
   "metadata": {
    "execution": {
     "iopub.execute_input": "2023-08-05T06:51:57.711348Z",
     "iopub.status.busy": "2023-08-05T06:51:57.710380Z",
     "iopub.status.idle": "2023-08-05T06:51:57.718466Z",
     "shell.execute_reply": "2023-08-05T06:51:57.717555Z",
     "shell.execute_reply.started": "2023-08-05T06:51:57.711307Z"
    }
   },
   "outputs": [
    {
     "data": {
      "text/plain": [
       "array([ 38,  18,  23, ..., 105, 122, 119])"
      ]
     },
     "execution_count": 107,
     "metadata": {},
     "output_type": "execute_result"
    }
   ],
   "source": [
    "new_train['sales'].values"
   ]
  },
  {
   "cell_type": "code",
   "execution_count": 113,
   "metadata": {
    "execution": {
     "iopub.execute_input": "2023-08-05T06:57:34.805981Z",
     "iopub.status.busy": "2023-08-05T06:57:34.805601Z",
     "iopub.status.idle": "2023-08-05T06:59:51.105803Z",
     "shell.execute_reply": "2023-08-05T06:59:51.104848Z",
     "shell.execute_reply.started": "2023-08-05T06:57:34.805949Z"
    }
   },
   "outputs": [
    {
     "data": {
      "text/html": [
       "<table class=\"simpletable\">\n",
       "<caption>SARIMAX Results</caption>\n",
       "<tr>\n",
       "  <th>Dep. Variable:</th>         <td>sales</td>      <th>  No. Observations:  </th>    <td>91000</td>   \n",
       "</tr>\n",
       "<tr>\n",
       "  <th>Model:</th>            <td>ARIMA(3, 1, 5)</td>  <th>  Log Likelihood     </th> <td>-354350.537</td>\n",
       "</tr>\n",
       "<tr>\n",
       "  <th>Date:</th>            <td>Sat, 05 Aug 2023</td> <th>  AIC                </th> <td>708719.074</td> \n",
       "</tr>\n",
       "<tr>\n",
       "  <th>Time:</th>                <td>06:59:49</td>     <th>  BIC                </th> <td>708803.842</td> \n",
       "</tr>\n",
       "<tr>\n",
       "  <th>Sample:</th>                  <td>0</td>        <th>  HQIC               </th> <td>708744.909</td> \n",
       "</tr>\n",
       "<tr>\n",
       "  <th></th>                     <td> - 91000</td>     <th>                     </th>      <td> </td>     \n",
       "</tr>\n",
       "<tr>\n",
       "  <th>Covariance Type:</th>        <td>opg</td>       <th>                     </th>      <td> </td>     \n",
       "</tr>\n",
       "</table>\n",
       "<table class=\"simpletable\">\n",
       "<tr>\n",
       "     <td></td>       <th>coef</th>     <th>std err</th>      <th>z</th>      <th>P>|z|</th>  <th>[0.025</th>    <th>0.975]</th>  \n",
       "</tr>\n",
       "<tr>\n",
       "  <th>ar.L1</th>  <td>    0.2660</td> <td>    0.021</td> <td>   12.388</td> <td> 0.000</td> <td>    0.224</td> <td>    0.308</td>\n",
       "</tr>\n",
       "<tr>\n",
       "  <th>ar.L2</th>  <td>    0.2394</td> <td>    0.027</td> <td>    8.898</td> <td> 0.000</td> <td>    0.187</td> <td>    0.292</td>\n",
       "</tr>\n",
       "<tr>\n",
       "  <th>ar.L3</th>  <td>   -0.9863</td> <td>    0.021</td> <td>  -46.001</td> <td> 0.000</td> <td>   -1.028</td> <td>   -0.944</td>\n",
       "</tr>\n",
       "<tr>\n",
       "  <th>ma.L1</th>  <td>   -1.1132</td> <td>    0.022</td> <td>  -51.704</td> <td> 0.000</td> <td>   -1.155</td> <td>   -1.071</td>\n",
       "</tr>\n",
       "<tr>\n",
       "  <th>ma.L2</th>  <td>    0.0870</td> <td>    0.045</td> <td>    1.947</td> <td> 0.052</td> <td>   -0.001</td> <td>    0.175</td>\n",
       "</tr>\n",
       "<tr>\n",
       "  <th>ma.L3</th>  <td>    1.1515</td> <td>    0.045</td> <td>   25.399</td> <td> 0.000</td> <td>    1.063</td> <td>    1.240</td>\n",
       "</tr>\n",
       "<tr>\n",
       "  <th>ma.L4</th>  <td>   -0.8513</td> <td>    0.020</td> <td>  -41.844</td> <td> 0.000</td> <td>   -0.891</td> <td>   -0.811</td>\n",
       "</tr>\n",
       "<tr>\n",
       "  <th>ma.L5</th>  <td>    0.1226</td> <td>    0.003</td> <td>   36.431</td> <td> 0.000</td> <td>    0.116</td> <td>    0.129</td>\n",
       "</tr>\n",
       "<tr>\n",
       "  <th>sigma2</th> <td>  143.9028</td> <td>    0.359</td> <td>  401.016</td> <td> 0.000</td> <td>  143.199</td> <td>  144.606</td>\n",
       "</tr>\n",
       "</table>\n",
       "<table class=\"simpletable\">\n",
       "<tr>\n",
       "  <th>Ljung-Box (L1) (Q):</th>     <td>30.82</td> <th>  Jarque-Bera (JB):  </th> <td>185122.27</td>\n",
       "</tr>\n",
       "<tr>\n",
       "  <th>Prob(Q):</th>                <td>0.00</td>  <th>  Prob(JB):          </th>   <td>0.00</td>   \n",
       "</tr>\n",
       "<tr>\n",
       "  <th>Heteroskedasticity (H):</th> <td>0.82</td>  <th>  Skew:              </th>   <td>0.79</td>   \n",
       "</tr>\n",
       "<tr>\n",
       "  <th>Prob(H) (two-sided):</th>    <td>0.00</td>  <th>  Kurtosis:          </th>   <td>9.81</td>   \n",
       "</tr>\n",
       "</table><br/><br/>Warnings:<br/>[1] Covariance matrix calculated using the outer product of gradients (complex-step)."
      ],
      "text/latex": [
       "\\begin{center}\n",
       "\\begin{tabular}{lclc}\n",
       "\\toprule\n",
       "\\textbf{Dep. Variable:}          &      sales       & \\textbf{  No. Observations:  } &    91000     \\\\\n",
       "\\textbf{Model:}                  &  ARIMA(3, 1, 5)  & \\textbf{  Log Likelihood     } & -354350.537  \\\\\n",
       "\\textbf{Date:}                   & Sat, 05 Aug 2023 & \\textbf{  AIC                } &  708719.074  \\\\\n",
       "\\textbf{Time:}                   &     06:59:49     & \\textbf{  BIC                } &  708803.842  \\\\\n",
       "\\textbf{Sample:}                 &        0         & \\textbf{  HQIC               } &  708744.909  \\\\\n",
       "\\textbf{}                        &      - 91000     & \\textbf{                     } &              \\\\\n",
       "\\textbf{Covariance Type:}        &       opg        & \\textbf{                     } &              \\\\\n",
       "\\bottomrule\n",
       "\\end{tabular}\n",
       "\\begin{tabular}{lcccccc}\n",
       "                & \\textbf{coef} & \\textbf{std err} & \\textbf{z} & \\textbf{P$> |$z$|$} & \\textbf{[0.025} & \\textbf{0.975]}  \\\\\n",
       "\\midrule\n",
       "\\textbf{ar.L1}  &       0.2660  &        0.021     &    12.388  &         0.000        &        0.224    &        0.308     \\\\\n",
       "\\textbf{ar.L2}  &       0.2394  &        0.027     &     8.898  &         0.000        &        0.187    &        0.292     \\\\\n",
       "\\textbf{ar.L3}  &      -0.9863  &        0.021     &   -46.001  &         0.000        &       -1.028    &       -0.944     \\\\\n",
       "\\textbf{ma.L1}  &      -1.1132  &        0.022     &   -51.704  &         0.000        &       -1.155    &       -1.071     \\\\\n",
       "\\textbf{ma.L2}  &       0.0870  &        0.045     &     1.947  &         0.052        &       -0.001    &        0.175     \\\\\n",
       "\\textbf{ma.L3}  &       1.1515  &        0.045     &    25.399  &         0.000        &        1.063    &        1.240     \\\\\n",
       "\\textbf{ma.L4}  &      -0.8513  &        0.020     &   -41.844  &         0.000        &       -0.891    &       -0.811     \\\\\n",
       "\\textbf{ma.L5}  &       0.1226  &        0.003     &    36.431  &         0.000        &        0.116    &        0.129     \\\\\n",
       "\\textbf{sigma2} &     143.9028  &        0.359     &   401.016  &         0.000        &      143.199    &      144.606     \\\\\n",
       "\\bottomrule\n",
       "\\end{tabular}\n",
       "\\begin{tabular}{lclc}\n",
       "\\textbf{Ljung-Box (L1) (Q):}     & 30.82 & \\textbf{  Jarque-Bera (JB):  } & 185122.27  \\\\\n",
       "\\textbf{Prob(Q):}                &  0.00 & \\textbf{  Prob(JB):          } &    0.00    \\\\\n",
       "\\textbf{Heteroskedasticity (H):} &  0.82 & \\textbf{  Skew:              } &    0.79    \\\\\n",
       "\\textbf{Prob(H) (two-sided):}    &  0.00 & \\textbf{  Kurtosis:          } &    9.81    \\\\\n",
       "\\bottomrule\n",
       "\\end{tabular}\n",
       "%\\caption{SARIMAX Results}\n",
       "\\end{center}\n",
       "\n",
       "Warnings: \\newline\n",
       " [1] Covariance matrix calculated using the outer product of gradients (complex-step)."
      ],
      "text/plain": [
       "<class 'statsmodels.iolib.summary.Summary'>\n",
       "\"\"\"\n",
       "                               SARIMAX Results                                \n",
       "==============================================================================\n",
       "Dep. Variable:                  sales   No. Observations:                91000\n",
       "Model:                 ARIMA(3, 1, 5)   Log Likelihood             -354350.537\n",
       "Date:                Sat, 05 Aug 2023   AIC                         708719.074\n",
       "Time:                        06:59:49   BIC                         708803.842\n",
       "Sample:                             0   HQIC                        708744.909\n",
       "                              - 91000                                         \n",
       "Covariance Type:                  opg                                         \n",
       "==============================================================================\n",
       "                 coef    std err          z      P>|z|      [0.025      0.975]\n",
       "------------------------------------------------------------------------------\n",
       "ar.L1          0.2660      0.021     12.388      0.000       0.224       0.308\n",
       "ar.L2          0.2394      0.027      8.898      0.000       0.187       0.292\n",
       "ar.L3         -0.9863      0.021    -46.001      0.000      -1.028      -0.944\n",
       "ma.L1         -1.1132      0.022    -51.704      0.000      -1.155      -1.071\n",
       "ma.L2          0.0870      0.045      1.947      0.052      -0.001       0.175\n",
       "ma.L3          1.1515      0.045     25.399      0.000       1.063       1.240\n",
       "ma.L4         -0.8513      0.020    -41.844      0.000      -0.891      -0.811\n",
       "ma.L5          0.1226      0.003     36.431      0.000       0.116       0.129\n",
       "sigma2       143.9028      0.359    401.016      0.000     143.199     144.606\n",
       "===================================================================================\n",
       "Ljung-Box (L1) (Q):                  30.82   Jarque-Bera (JB):            185122.27\n",
       "Prob(Q):                              0.00   Prob(JB):                         0.00\n",
       "Heteroskedasticity (H):               0.82   Skew:                             0.79\n",
       "Prob(H) (two-sided):                  0.00   Kurtosis:                         9.81\n",
       "===================================================================================\n",
       "\n",
       "Warnings:\n",
       "[1] Covariance matrix calculated using the outer product of gradients (complex-step).\n",
       "\"\"\""
      ]
     },
     "execution_count": 113,
     "metadata": {},
     "output_type": "execute_result"
    }
   ],
   "source": [
    "model = ARIMA(new_train['sales'],order=(3,1,5))\n",
    "model = model.fit()\n",
    "model.summary()"
   ]
  },
  {
   "cell_type": "code",
   "execution_count": 114,
   "metadata": {
    "execution": {
     "iopub.execute_input": "2023-08-05T07:01:07.428765Z",
     "iopub.status.busy": "2023-08-05T07:01:07.428372Z",
     "iopub.status.idle": "2023-08-05T07:01:07.466374Z",
     "shell.execute_reply": "2023-08-05T07:01:07.465227Z",
     "shell.execute_reply.started": "2023-08-05T07:01:07.428733Z"
    }
   },
   "outputs": [
    {
     "name": "stdout",
     "output_type": "stream",
     "text": [
      "91000    106.752091\n",
      "91001    100.086622\n",
      "91002     96.541778\n",
      "91003     99.608139\n",
      "91004    107.372547\n",
      "            ...    \n",
      "91495     99.358193\n",
      "91496    103.279551\n",
      "91497    108.972914\n",
      "91498    112.194681\n",
      "91499    110.546844\n",
      "Name: predicted_mean, Length: 500, dtype: float64\n"
     ]
    }
   ],
   "source": [
    "start = len(new_train)\n",
    "end = len(new_train)+len(new_test)-1\n",
    "pred = model.predict(start=start,end=end,type='levels')\n",
    "print(pred)"
   ]
  },
  {
   "cell_type": "code",
   "execution_count": 116,
   "metadata": {
    "execution": {
     "iopub.execute_input": "2023-08-05T07:02:05.473055Z",
     "iopub.status.busy": "2023-08-05T07:02:05.471945Z",
     "iopub.status.idle": "2023-08-05T07:02:05.482231Z",
     "shell.execute_reply": "2023-08-05T07:02:05.481106Z",
     "shell.execute_reply.started": "2023-08-05T07:02:05.473014Z"
    }
   },
   "outputs": [
    {
     "name": "stdout",
     "output_type": "stream",
     "text": [
      "date\n",
      "2017-08-20    106.752091\n",
      "2017-08-21    100.086622\n",
      "2017-08-22     96.541778\n",
      "2017-08-23     99.608139\n",
      "2017-08-24    107.372547\n",
      "                 ...    \n",
      "2017-12-27     99.358193\n",
      "2017-12-28    103.279551\n",
      "2017-12-29    108.972914\n",
      "2017-12-30    112.194681\n",
      "2017-12-31    110.546844\n",
      "Name: predicted_mean, Length: 500, dtype: float64\n"
     ]
    }
   ],
   "source": [
    "pred.index = new_df.index[start:end+1]\n",
    "print(pred)"
   ]
  },
  {
   "cell_type": "code",
   "execution_count": 124,
   "metadata": {
    "execution": {
     "iopub.execute_input": "2023-08-05T07:06:00.234723Z",
     "iopub.status.busy": "2023-08-05T07:06:00.234345Z",
     "iopub.status.idle": "2023-08-05T07:06:00.586042Z",
     "shell.execute_reply": "2023-08-05T07:06:00.585151Z",
     "shell.execute_reply.started": "2023-08-05T07:06:00.234693Z"
    }
   },
   "outputs": [
    {
     "data": {
      "text/plain": [
       "<Axes: xlabel='date'>"
      ]
     },
     "execution_count": 124,
     "metadata": {},
     "output_type": "execute_result"
    },
    {
     "data": {
      "image/png": "[encoded data removed]",
      "text/plain": [
       "<Figure size 640x480 with 1 Axes>"
      ]
     },
     "metadata": {},
     "output_type": "display_data"
    }
   ],
   "source": [
    "pred[:100].plot(legend=True)\n",
    "new_test['sales'].iloc[:100].plot(legend=True)"
   ]
  },
  {
   "cell_type": "code",
   "execution_count": 125,
   "metadata": {
    "execution": {
     "iopub.execute_input": "2023-08-05T07:07:19.850020Z",
     "iopub.status.busy": "2023-08-05T07:07:19.849646Z",
     "iopub.status.idle": "2023-08-05T07:07:19.857042Z",
     "shell.execute_reply": "2023-08-05T07:07:19.856039Z",
     "shell.execute_reply.started": "2023-08-05T07:07:19.849989Z"
    }
   },
   "outputs": [
    {
     "data": {
      "text/plain": [
       "84.742"
      ]
     },
     "execution_count": 125,
     "metadata": {},
     "output_type": "execute_result"
    }
   ],
   "source": [
    "new_test['sales'].mean()"
   ]
  },
  {
   "cell_type": "code",
   "execution_count": 126,
   "metadata": {
    "execution": {
     "iopub.execute_input": "2023-08-05T07:08:21.194726Z",
     "iopub.status.busy": "2023-08-05T07:08:21.194344Z",
     "iopub.status.idle": "2023-08-05T07:08:21.201221Z",
     "shell.execute_reply": "2023-08-05T07:08:21.200293Z",
     "shell.execute_reply.started": "2023-08-05T07:08:21.194697Z"
    }
   },
   "outputs": [
    {
     "name": "stdout",
     "output_type": "stream",
     "text": [
      "27.1511774397868\n"
     ]
    }
   ],
   "source": [
    "rmse = sqrt(mean_squared_error(pred,new_test['sales']))\n",
    "print(rmse)"
   ]
  },
  {
   "cell_type": "code",
   "execution_count": 127,
   "metadata": {
    "execution": {
     "iopub.execute_input": "2023-08-05T07:09:49.603348Z",
     "iopub.status.busy": "2023-08-05T07:09:49.602954Z",
     "iopub.status.idle": "2023-08-05T07:11:52.498570Z",
     "shell.execute_reply": "2023-08-05T07:11:52.497553Z",
     "shell.execute_reply.started": "2023-08-05T07:09:49.603316Z"
    }
   },
   "outputs": [],
   "source": [
    "model2 = ARIMA(new_df['sales'],order=(3,1,5))\n",
    "model2 = model2.fit()"
   ]
  },
  {
   "cell_type": "code",
   "execution_count": 142,
   "metadata": {
    "execution": {
     "iopub.execute_input": "2023-08-05T07:18:51.874959Z",
     "iopub.status.busy": "2023-08-05T07:18:51.874577Z",
     "iopub.status.idle": "2023-08-05T07:18:53.411508Z",
     "shell.execute_reply": "2023-08-05T07:18:53.410440Z",
     "shell.execute_reply.started": "2023-08-05T07:18:51.874928Z"
    }
   },
   "outputs": [],
   "source": [
    "pred = model2.predict(start=len(new_df),end=len(new_df)+45000-1,type='levels').rename('Arima Prediction')"
   ]
  },
  {
   "cell_type": "code",
   "execution_count": 146,
   "metadata": {
    "execution": {
     "iopub.execute_input": "2023-08-05T07:20:13.243359Z",
     "iopub.status.busy": "2023-08-05T07:20:13.242939Z",
     "iopub.status.idle": "2023-08-05T07:20:13.553696Z",
     "shell.execute_reply": "2023-08-05T07:20:13.552700Z",
     "shell.execute_reply.started": "2023-08-05T07:20:13.243326Z"
    }
   },
   "outputs": [
    {
     "data": {
      "text/plain": [
       "<Axes: >"
      ]
     },
     "execution_count": 146,
     "metadata": {},
     "output_type": "execute_result"
    },
    {
     "data": {
      "image/png": "[encoded data removed]",
      "text/plain": [
       "<Figure size 1200x500 with 1 Axes>"
      ]
     },
     "metadata": {},
     "output_type": "display_data"
    }
   ],
   "source": [
    "pred.plot(figsize=(12,5))"
   ]
  },
  {
   "cell_type": "code",
   "execution_count": 148,
   "metadata": {
    "execution": {
     "iopub.execute_input": "2023-08-05T07:21:11.889437Z",
     "iopub.status.busy": "2023-08-05T07:21:11.888292Z",
     "iopub.status.idle": "2023-08-05T07:21:11.897447Z",
     "shell.execute_reply": "2023-08-05T07:21:11.895964Z",
     "shell.execute_reply.started": "2023-08-05T07:21:11.889392Z"
    }
   },
   "outputs": [
    {
     "data": {
      "text/plain": [
       "array([64.24133315, 59.12987207, 57.61813115, ..., 65.34201351,\n",
       "       65.34201351, 65.34201351])"
      ]
     },
     "execution_count": 148,
     "metadata": {},
     "output_type": "execute_result"
    }
   ],
   "source": [
    "pred.values"
   ]
  },
  {
   "cell_type": "code",
   "execution_count": 150,
   "metadata": {
    "execution": {
     "iopub.execute_input": "2023-08-05T07:22:40.357151Z",
     "iopub.status.busy": "2023-08-05T07:22:40.356733Z",
     "iopub.status.idle": "2023-08-05T07:22:40.363799Z",
     "shell.execute_reply": "2023-08-05T07:22:40.362168Z",
     "shell.execute_reply.started": "2023-08-05T07:22:40.357115Z"
    }
   },
   "outputs": [],
   "source": [
    "submit['ARIMA_pred']=pred.values"
   ]
  },
  {
   "cell_type": "code",
   "execution_count": 151,
   "metadata": {
    "execution": {
     "iopub.execute_input": "2023-08-05T07:22:44.132483Z",
     "iopub.status.busy": "2023-08-05T07:22:44.131753Z",
     "iopub.status.idle": "2023-08-05T07:22:44.146859Z",
     "shell.execute_reply": "2023-08-05T07:22:44.145710Z",
     "shell.execute_reply.started": "2023-08-05T07:22:44.132443Z"
    }
   },
   "outputs": [
    {
     "data": {
      "text/html": [
       "<div>\n",
       "<style scoped>\n",
       "    .dataframe tbody tr th:only-of-type {\n",
       "        vertical-align: middle;\n",
       "    }\n",
       "\n",
       "    .dataframe tbody tr th {\n",
       "        vertical-align: top;\n",
       "    }\n",
       "\n",
       "    .dataframe thead th {\n",
       "        text-align: right;\n",
       "    }\n",
       "</style>\n",
       "<table border=\"1\" class=\"dataframe\">\n",
       "  <thead>\n",
       "    <tr style=\"text-align: right;\">\n",
       "      <th></th>\n",
       "      <th>id</th>\n",
       "      <th>sales</th>\n",
       "      <th>ARIMA_pred</th>\n",
       "    </tr>\n",
       "  </thead>\n",
       "  <tbody>\n",
       "    <tr>\n",
       "      <th>0</th>\n",
       "      <td>0</td>\n",
       "      <td>69.356867</td>\n",
       "      <td>64.241333</td>\n",
       "    </tr>\n",
       "    <tr>\n",
       "      <th>1</th>\n",
       "      <td>1</td>\n",
       "      <td>69.146571</td>\n",
       "      <td>59.129872</td>\n",
       "    </tr>\n",
       "    <tr>\n",
       "      <th>2</th>\n",
       "      <td>2</td>\n",
       "      <td>72.384511</td>\n",
       "      <td>57.618131</td>\n",
       "    </tr>\n",
       "    <tr>\n",
       "      <th>3</th>\n",
       "      <td>3</td>\n",
       "      <td>74.655412</td>\n",
       "      <td>61.324028</td>\n",
       "    </tr>\n",
       "    <tr>\n",
       "      <th>4</th>\n",
       "      <td>4</td>\n",
       "      <td>74.542746</td>\n",
       "      <td>68.550441</td>\n",
       "    </tr>\n",
       "    <tr>\n",
       "      <th>...</th>\n",
       "      <td>...</td>\n",
       "      <td>...</td>\n",
       "      <td>...</td>\n",
       "    </tr>\n",
       "    <tr>\n",
       "      <th>44995</th>\n",
       "      <td>44995</td>\n",
       "      <td>59.126690</td>\n",
       "      <td>65.342014</td>\n",
       "    </tr>\n",
       "    <tr>\n",
       "      <th>44996</th>\n",
       "      <td>44996</td>\n",
       "      <td>59.126690</td>\n",
       "      <td>65.342014</td>\n",
       "    </tr>\n",
       "    <tr>\n",
       "      <th>44997</th>\n",
       "      <td>44997</td>\n",
       "      <td>59.126690</td>\n",
       "      <td>65.342014</td>\n",
       "    </tr>\n",
       "    <tr>\n",
       "      <th>44998</th>\n",
       "      <td>44998</td>\n",
       "      <td>59.126690</td>\n",
       "      <td>65.342014</td>\n",
       "    </tr>\n",
       "    <tr>\n",
       "      <th>44999</th>\n",
       "      <td>44999</td>\n",
       "      <td>59.126690</td>\n",
       "      <td>65.342014</td>\n",
       "    </tr>\n",
       "  </tbody>\n",
       "</table>\n",
       "<p>45000 rows × 3 columns</p>\n",
       "</div>"
      ],
      "text/plain": [
       "          id      sales  ARIMA_pred\n",
       "0          0  69.356867   64.241333\n",
       "1          1  69.146571   59.129872\n",
       "2          2  72.384511   57.618131\n",
       "3          3  74.655412   61.324028\n",
       "4          4  74.542746   68.550441\n",
       "...      ...        ...         ...\n",
       "44995  44995  59.126690   65.342014\n",
       "44996  44996  59.126690   65.342014\n",
       "44997  44997  59.126690   65.342014\n",
       "44998  44998  59.126690   65.342014\n",
       "44999  44999  59.126690   65.342014\n",
       "\n",
       "[45000 rows x 3 columns]"
      ]
     },
     "execution_count": 151,
     "metadata": {},
     "output_type": "execute_result"
    }
   ],
   "source": [
    "submit"
   ]
  },
  {
   "cell_type": "code",
   "execution_count": 152,
   "metadata": {
    "execution": {
     "iopub.execute_input": "2023-08-05T07:25:45.581140Z",
     "iopub.status.busy": "2023-08-05T07:25:45.580726Z",
     "iopub.status.idle": "2023-08-05T07:25:45.975016Z",
     "shell.execute_reply": "2023-08-05T07:25:45.973992Z",
     "shell.execute_reply.started": "2023-08-05T07:25:45.581110Z"
    }
   },
   "outputs": [
    {
     "data": {
      "text/plain": [
       "<Axes: >"
      ]
     },
     "execution_count": 152,
     "metadata": {},
     "output_type": "execute_result"
    },
    {
     "data": {
      "image/png": "[encoded data removed]",
      "text/plain": [
       "<Figure size 640x480 with 1 Axes>"
      ]
     },
     "metadata": {},
     "output_type": "display_data"
    }
   ],
   "source": [
    "submit.sales.plot(legend=True)\n",
    "submit.ARIMA_pred.plot(legend=True)"
   ]
  },
  {
   "cell_type": "code",
   "execution_count": null,
   "metadata": {},
   "outputs": [],
   "source": []
  }
 ],
 "metadata": {
  "kernelspec": {
   "display_name": "Python 3 (ipykernel)",
   "language": "python",
   "name": "python3"
  },
  "language_info": {
   "codemirror_mode": {
    "name": "ipython",
    "version": 3
   },
   "file_extension": ".py",
   "mimetype": "text/x-python",
   "name": "python",
   "nbconvert_exporter": "python",
   "pygments_lexer": "ipython3",
   "version": "3.11.4"
  }
 },
 "nbformat": 4,
 "nbformat_minor": 4
}
